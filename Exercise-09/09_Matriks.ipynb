{
 "cells": [
  {
   "cell_type": "markdown",
   "source": [
    "# Exercise 09  \n",
    "### OPERASI MATRIKS  \n",
    "Silahkan lengkapi kode yang rumpang sesuai perintah yang diberikan.\n"
   ],
   "metadata": {}
  },
  {
   "cell_type": "markdown",
   "source": [
    "![](./image/1.png)"
   ],
   "metadata": {}
  },
  {
   "cell_type": "code",
   "execution_count": 2,
   "source": [
    "A = [[1, 2],\r\n",
    "     [3, 4]]\r\n",
    "\r\n",
    "B = [[5, 6],\r\n",
    "     [7, 8]]\r\n",
    "\r\n",
    "print('Matriks A :\\n', A)\r\n",
    "print('Matriks B :\\n', B)\r\n"
   ],
   "outputs": [
    {
     "output_type": "stream",
     "name": "stdout",
     "text": [
      "Matriks A :\n",
      " [[1, 2], [3, 4]]\n",
      "Matriks B :\n",
      " [[5, 6], [7, 8]]\n"
     ]
    }
   ],
   "metadata": {}
  },
  {
   "cell_type": "markdown",
   "source": [
    "Buatlah matriks menggunakan metode perulangan for dengan ketentuan sebagai berikut:\n",
    "* Matriks A berisi angka sebesar 4 setelah nim kalian. (ex: nim = 12, nilai matriks [16, 16],[16,16])\n",
    "* Matriks B berisi angka sebesar 4 sebelum nim kalian. (ex: nim = 12, nilai matriks [8, 8],[8,8])\n"
   ],
   "metadata": {}
  },
  {
   "cell_type": "code",
   "execution_count": 3,
   "source": [
    "def create(matriks, nim):\r\n",
    "    for i in range(2):\r\n",
    "        for k in range(2):\r\n",
    "            matriks[i][k] = nim \r\n",
    "create(A, 30)\r\n",
    "create(B, 22)\r\n",
    "\r\n",
    "print(A)\r\n",
    "print(B)"
   ],
   "outputs": [
    {
     "output_type": "stream",
     "name": "stdout",
     "text": [
      "[[30, 30], [30, 30]]\n",
      "[[22, 22], [22, 22]]\n"
     ]
    }
   ],
   "metadata": {}
  },
  {
   "cell_type": "markdown",
   "source": [
    "## KERJAKAN SOAL BERIKUT\n",
    "1. Buatlah program penjumlahan matriks A dan B.\n",
    "2. Buatlah program pengurangan matriks A dan B.\n",
    "3. Buatlah program perkalian matriks A dan B."
   ],
   "metadata": {}
  },
  {
   "cell_type": "code",
   "execution_count": 4,
   "source": [
    "#SOAL-1\r\n",
    "#YOUR CODE HERE\r\n",
    "A = [[30, 30],\r\n",
    "     [30, 30]]\r\n",
    "\r\n",
    "B = [[22, 22],\r\n",
    "     [22, 22]]\r\n",
    "\r\n",
    "for x in range(len(A)):\r\n",
    "    for y in range(len(A[0])):\r\n",
    "        print (A[x][y] + B[x][y], end=' ')\r\n",
    "    print()    "
   ],
   "outputs": [
    {
     "output_type": "stream",
     "name": "stdout",
     "text": [
      "52 52 \n",
      "52 52 \n"
     ]
    }
   ],
   "metadata": {}
  },
  {
   "cell_type": "code",
   "execution_count": 5,
   "source": [
    "#SOAL-2\r\n",
    "#YOUR CODE HERE\r\n",
    "A = [[30, 30],\r\n",
    "     [30, 30]]\r\n",
    "\r\n",
    "B = [[22, 22],\r\n",
    "     [22, 22]]\r\n",
    "\r\n",
    "for x in range(len(A)):\r\n",
    "    for y in range(len(A[0])):\r\n",
    "        print (A[x][y] - B[x][y], end=' ')\r\n",
    "    print()    "
   ],
   "outputs": [
    {
     "output_type": "stream",
     "name": "stdout",
     "text": [
      "8 8 \n",
      "8 8 \n"
     ]
    }
   ],
   "metadata": {}
  },
  {
   "cell_type": "code",
   "execution_count": 11,
   "source": [
    "#SOAL-3\r\n",
    "#YOUR CODE HERE\r\n",
    "A = [[30, 30],\r\n",
    "     [30, 30]]\r\n",
    "\r\n",
    "B = [[22, 22],\r\n",
    "     [22, 22]]\r\n",
    "\r\n",
    "C = []\r\n",
    "\r\n",
    "for x in range(len(A)):\r\n",
    "    baris = []\r\n",
    "    for y in range(len(A[0])):\r\n",
    "        hasil = 0\r\n",
    "        for z in range (len(A)):\r\n",
    "            hasil = hasil +  (A[x][y] + B[x][y])\r\n",
    "        baris.append(hasil)\r\n",
    "    C.append(baris)\r\n",
    "\r\n",
    "for x in range(len(C)):          \r\n",
    "    for z in range (len(C[0])):\r\n",
    "       print (C[x][y], end=' ') \r\n",
    "    print()   "
   ],
   "outputs": [
    {
     "output_type": "stream",
     "name": "stdout",
     "text": [
      "104 104 \n",
      "104 104 \n"
     ]
    }
   ],
   "metadata": {}
  },
  {
   "cell_type": "markdown",
   "source": [
    "### Cara Pengumpulan\n",
    "\n",
    "1. Buka *New Terminal*\n",
    "2. Pastikan *path* Terminal adalah folder repositori kalian (NIM-Nama-Prokom).\n",
    "3. Tambahkan file yang akan ditrack dengan `git add <nama file>`. Nama file bisa diubah . (titik)  `git add .`yang artinya semua file dalam folder akan ditrack.\n",
    "4. Lakukan commit perubahan dengan `git commit -m <deskripsi>`.\n",
    "5. Lakukan push dengan `git push -u origin <nama branch>`. Nama branch dapat diketahui dengan `git branch`.\n",
    "6. Pastikan Exercise-02 telah terupload dan dapat diakses di repositori dengan mengaksesnya di browser."
   ],
   "metadata": {}
  }
 ],
 "metadata": {
  "interpreter": {
   "hash": "0dd272924c7cc597c5889018966c2ccb6c9651b4aec44649117dbf66b8c76eee"
  },
  "kernelspec": {
   "name": "python3",
   "display_name": "Python 3.10.4 64-bit"
  },
  "language_info": {
   "codemirror_mode": {
    "name": "ipython",
    "version": 3
   },
   "file_extension": ".py",
   "mimetype": "text/x-python",
   "name": "python",
   "nbconvert_exporter": "python",
   "pygments_lexer": "ipython3",
   "version": "3.10.4"
  },
  "orig_nbformat": 4
 },
 "nbformat": 4,
 "nbformat_minor": 2
}