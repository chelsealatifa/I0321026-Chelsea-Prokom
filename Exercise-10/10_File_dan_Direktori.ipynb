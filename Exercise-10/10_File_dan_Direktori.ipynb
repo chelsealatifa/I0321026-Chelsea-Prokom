{
 "cells": [
  {
   "cell_type": "markdown",
   "source": [
    "***\n",
    "<h1 align=\"center\">Exercise 10</h1>\n",
    " \n",
    "***\n",
    "## Membaca File per Baris\n",
    "Buka file *puisi.txt* yang ada pada direktori ./data.\n",
    "Buat program seperti di bawah untuk membaca per baris file *puisi.txt*.\n",
    "![](./images/10_openPuisi.png)\n",
    "Kemudian coba jalankan program yang kalian buat."
   ],
   "metadata": {}
  },
  {
   "cell_type": "code",
   "execution_count": 1,
   "source": [
    "# Kerjakan disini\r\n",
    "file_puisi = open(\"./data/puisi.txt\", \"r\")\r\n",
    "print(file_puisi.readlines())\r\n",
    "file_puisi.close()\r\n",
    "# Jangan hapus kode di bawah ini \r\n",
    "%reset -f"
   ],
   "outputs": [
    {
     "output_type": "stream",
     "name": "stdout",
     "text": [
      "['Engkau bahkan bukan lagi variabel bagiku\\n', 'Engkau adalah konstanta abadi yang tak tergantikan...']\n"
     ]
    }
   ],
   "metadata": {}
  },
  {
   "cell_type": "markdown",
   "source": [
    "## Membaca Semua Teks dalam File\n",
    "Buat program seperti di bawah untuk membaca semua teks dalam file *puisi.txt*.\n",
    "![](./images/10_puisiRead.png)\n",
    "Kemudian coba jalankan program yang kalian buat."
   ],
   "metadata": {}
  },
  {
   "cell_type": "code",
   "execution_count": 2,
   "source": [
    "# Kerjakan disini\r\n",
    "file_puisi = open(\"./data/puisi.txt\", \"r\")\r\n",
    "puisi = file_puisi.read()\r\n",
    "print(puisi)\r\n",
    "file_puisi.close()\r\n",
    "# Jangan hapus kode di bawah ini \r\n",
    "%reset -f"
   ],
   "outputs": [
    {
     "output_type": "stream",
     "name": "stdout",
     "text": [
      "Engkau bahkan bukan lagi variabel bagiku\n",
      "Engkau adalah konstanta abadi yang tak tergantikan...\n"
     ]
    }
   ],
   "metadata": {}
  },
  {
   "cell_type": "markdown",
   "source": [
    "## Menulis File\n",
    "Buat kode program seperti di bawah!\n",
    "![](./images/10_writeBio.png)\n",
    "Setelah itu, coba jalankan kode yang dibuat dan inputkan contoh data berupa nama, umur, dan alamat (Tidak harus data asli)."
   ],
   "metadata": {}
  },
  {
   "cell_type": "code",
   "execution_count": 5,
   "source": [
    "# Kerjakan disini\r\n",
    "print(\"Selamat Datang di Program Biodata\")\r\n",
    "print(\"=================================\")\r\n",
    "\r\n",
    "nama = input(\"Nama: \")\r\n",
    "umur = input(\"Umur: \")\r\n",
    "alamat = input(\"Alamat: \")\r\n",
    "\r\n",
    "teks = \"Nama: {}\\nUmur: {}\\nAlamat: {}\\n\".format(nama, umur, alamat)\r\n",
    "\r\n",
    "file_bio = open(\"./data/biodata.txt\", \"w\")\r\n",
    "file_bio.write(teks)\r\n",
    "file_bio.close\r\n",
    "\r\n",
    "# Jangan hapus kode di bawah ini \r\n",
    "%reset -f"
   ],
   "outputs": [
    {
     "output_type": "stream",
     "name": "stdout",
     "text": [
      "Selamat Datang di Program Biodata\n",
      "=================================\n"
     ]
    }
   ],
   "metadata": {}
  },
  {
   "cell_type": "markdown",
   "source": [
    "Perhatikan bahwa terdapat file baru bernama *biodata.txt* di *./data*. coba buka file tersebut untuk melihat data yang dimasukkan."
   ],
   "metadata": {}
  },
  {
   "cell_type": "markdown",
   "source": [
    "## Menyisipkan File\n",
    "Untuk menyisipkan file, atur mode ketika membuka file menjadi *append*/\"a\".\n",
    "Setelah diubah, jalankan kode tersebut dan inputkan data yang berbeda."
   ],
   "metadata": {}
  },
  {
   "cell_type": "code",
   "execution_count": 6,
   "source": [
    "print(\"Selamat Datang di Program Biodata\")\r\n",
    "print(\"=================================\")\r\n",
    "\r\n",
    "# Mengambil input dari user\r\n",
    "nama = input(\"Nama: \")\r\n",
    "umur = input(\"Umur: \")\r\n",
    "alamat = input(\"Alamat: \")\r\n",
    "\r\n",
    "# Format teks\r\n",
    "teks = \"Nama: {}\\nUmur: {}\\nAlamat: {}\\n\".format(nama, umur, alamat)\r\n",
    "\r\n",
    "# Buka file untuk ditulis\r\n",
    "file_bio = open(\"./data/biodata.txt\",\"a\")\r\n",
    "\r\n",
    "# Tulis teks ke dalam file\r\n",
    "file_bio.write(teks)\r\n",
    "\r\n",
    "# Tutup file\r\n",
    "file_bio.close()\r\n",
    "\r\n",
    "%reset -f"
   ],
   "outputs": [
    {
     "output_type": "stream",
     "name": "stdout",
     "text": [
      "Selamat Datang di Program Biodata\n",
      "=================================\n"
     ]
    }
   ],
   "metadata": {}
  },
  {
   "cell_type": "markdown",
   "source": [
    "Buka file *biodata.txt* dan lihat bahwa terdapat entri data baru."
   ],
   "metadata": {}
  },
  {
   "cell_type": "markdown",
   "source": [
    "## Membuat Direktori\n",
    "Buatlah kode program seperti di bawah ini.\n",
    "![](./images/10_membuatDirektori.png)\n",
    "Jalankan program yang telah dibuat."
   ],
   "metadata": {}
  },
  {
   "cell_type": "code",
   "execution_count": null,
   "source": [
    "# Kerjakan disini\r\n",
    "import os\r\n",
    "def main():\r\n",
    "    os.mkdir(\"contoh direktori\")\r\n",
    "ifname = \"main\"\r\n",
    "main()\r\n",
    "%reset -f"
   ],
   "outputs": [],
   "metadata": {}
  },
  {
   "cell_type": "markdown",
   "source": [
    "Perhatikan bahwa sebuah direktori baru berhasil dibuat bernama *contoh direktori*."
   ],
   "metadata": {}
  },
  {
   "cell_type": "markdown",
   "source": [
    "## Mengubah Nama Direktori\n",
    "Buatlah kode program seperti dibawah ini.\n",
    "![](./images/10_renameDirektori.png)\n",
    "Jalankan program yang telah dibuat."
   ],
   "metadata": {}
  },
  {
   "cell_type": "code",
   "execution_count": 9,
   "source": [
    "# Kerjakan disini\r\n",
    "import os\r\n",
    "def main():\r\n",
    "    os.rename(\"contoh direktori\",\"renamed\")\r\n",
    "ifname: \"main\"\r\n",
    "main()\r\n",
    "%reset -f"
   ],
   "outputs": [],
   "metadata": {}
  },
  {
   "cell_type": "markdown",
   "source": [
    "Perhatikan bahwa direktori *contoh direktori* telah berubah nama menjadi *renamed*."
   ],
   "metadata": {}
  },
  {
   "cell_type": "markdown",
   "source": [
    "## Menghapus Direktori\n",
    "Buatlah kode program seperti dibawah ini.\n",
    "![](./images/10_removeDirektori.png)\n",
    "Jalankan program yang telah dibuat."
   ],
   "metadata": {}
  },
  {
   "cell_type": "code",
   "execution_count": 10,
   "source": [
    "# Kerjakan disini\r\n",
    "import os\r\n",
    "def main():\r\n",
    "    os.rmdir(\"renamed\")\r\n",
    "ifname= \"main\"\r\n",
    "main()\r\n",
    "%reset -f\r\n"
   ],
   "outputs": [],
   "metadata": {}
  },
  {
   "cell_type": "markdown",
   "source": [
    "Perhatikan bahwa direktori *renamed* telah hilang."
   ],
   "metadata": {}
  },
  {
   "cell_type": "markdown",
   "source": [
    "## Mengumpulkan Tugas\n",
    "Tugas yang telah anda kerjalan perlu di-push ke Repositori Github. Untuk melakukannya, ikuti langkah dibawah ini:\n",
    "1. Buka **New Terminal**\n",
    "2. Pastikan path pada terminal tersebut telah sesuai dengan folder repositori bernama \"NIM-Nama Depan-Prokom\" milik anda. Jika belum sesuai, ketikkan `cd \"<path>\"` pada **Terminal**.\n",
    "3. Ketikkan `git add .` pada **Terminal** untuk menambahkan semua perubahan pada *working directory*.\n",
    "4. Ketikkan `git commit -m \"<kata-kata yang menjelaskan apa yang kalian lakukan>\"` pada **Terminal**, misal `git commit -m \"mengerjakan exercise 01\"`. Hal ini dilakukan untuk menyimpan *snapshot* project dilengkapi dengan pesan deskripsi.\n",
    "5. Ketikkan `git branch`. Maka akan muncul nama *branch working directory* kalian, pada gambar di bawah, nama branchnya adalah <font color='green'>main</font>, tetapi ada kemungkinan juga branch kalian akan bernama <font color='green'>master</font>. Perhatikan nama branch kalian, karena nantinya akan digunakan pada langkah selanjutnya.\n",
    " ![](./images/01_branch.png)\n",
    "5. Ketikkan `git push -u origin <nama branch>` pada **Terminal** untuk meng-*push* perubahan yang dilakukan ke Git *repository*.\n",
    "6. Seharusnya tugas kalian telah ter*upload* kedalam repositori kalian. Kalian dapat memastikannya dengan membuka repositori kalian di browser."
   ],
   "metadata": {}
  },
  {
   "cell_type": "markdown",
   "source": [
    "***\n",
    "<h1 align=\"center\">Well Done!!!</h1> \n",
    "\n",
    "***"
   ],
   "metadata": {}
  }
 ],
 "metadata": {
  "interpreter": {
   "hash": "0dd272924c7cc597c5889018966c2ccb6c9651b4aec44649117dbf66b8c76eee"
  },
  "kernelspec": {
   "name": "python3",
   "display_name": "Python 3.10.4 64-bit"
  },
  "language_info": {
   "codemirror_mode": {
    "name": "ipython",
    "version": 3
   },
   "file_extension": ".py",
   "mimetype": "text/x-python",
   "name": "python",
   "nbconvert_exporter": "python",
   "pygments_lexer": "ipython3",
   "version": "3.10.4"
  },
  "orig_nbformat": 4
 },
 "nbformat": 4,
 "nbformat_minor": 2
}