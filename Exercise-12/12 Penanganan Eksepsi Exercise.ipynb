{
 "cells": [
  {
   "cell_type": "markdown",
   "source": [
    "***\n",
    "<h1 align=\"center\">Exercise 12</h1>\n",
    " \n",
    "***\n",
    "## Exeption\n",
    "## Exercise 12.1\n",
    "\n",
    "Salinlah code yang ada pada contoh 12.1"
   ],
   "metadata": {}
  },
  {
   "cell_type": "code",
   "execution_count": 1,
   "source": [
    "#kerjakan disini\r\n",
    "try:\r\n",
    "    print(x)\r\n",
    "except:\r\n",
    "    print(\"An exception occured\")"
   ],
   "outputs": [
    {
     "output_type": "stream",
     "name": "stdout",
     "text": [
      "An exception occured\n"
     ]
    }
   ],
   "metadata": {}
  },
  {
   "cell_type": "markdown",
   "source": [
    "## Exercise 12.2\n",
    "\n",
    "Salinlah code yang ada pada contoh 12.2"
   ],
   "metadata": {}
  },
  {
   "cell_type": "code",
   "execution_count": 2,
   "source": [
    "#kerjakan disini\r\n",
    "try:\r\n",
    "    x = 'teknik'\r\n",
    "    print(x)\r\n",
    "except:\r\n",
    "    print(\"An exception occured\")"
   ],
   "outputs": [
    {
     "output_type": "stream",
     "name": "stdout",
     "text": [
      "teknik\n"
     ]
    }
   ],
   "metadata": {}
  },
  {
   "cell_type": "markdown",
   "source": [
    "## Exercise 12.3\n",
    "\n",
    "Salinlah code yang ada pada contoh 12.3"
   ],
   "metadata": {}
  },
  {
   "cell_type": "code",
   "execution_count": 5,
   "source": [
    "#kerjakan disini\r\n",
    "try:\r\n",
    "    teks = input('Ketikkan sesuatu: ')\r\n",
    "except EOFError:\r\n",
    "    print('\\nKenapa sudah EOF?')\r\n",
    "except KeyboardInterrupt:\r\n",
    "    print('\\nAnda membatalkan operasi')\r\n",
    "else:\r\n",
    "    print('Anda mengetikkan \"%s\"' % teks)"
   ],
   "outputs": [
    {
     "output_type": "stream",
     "name": "stdout",
     "text": [
      "Anda mengetikkan \"Sesuatu\"\n"
     ]
    }
   ],
   "metadata": {}
  },
  {
   "cell_type": "markdown",
   "source": [
    "## Exercise 12.4\n",
    "\n",
    "Salinlah code yang ada pada contoh 12.4"
   ],
   "metadata": {}
  },
  {
   "cell_type": "code",
   "execution_count": 6,
   "source": [
    "#kerjakan disini\r\n",
    "try:\r\n",
    "    teks = input('Ketikkan sesuatu: ')\r\n",
    "except EOFError:\r\n",
    "    print('\\nKenapa sudah EOF?')\r\n",
    "except KeyboardInterrupt:\r\n",
    "    print('\\nAnda membatalkan operasi')\r\n",
    "else:\r\n",
    "    print('Anda mengetikkan \"%s\"' % teks)"
   ],
   "outputs": [
    {
     "output_type": "stream",
     "name": "stdout",
     "text": [
      "Anda mengetikkan \"ya\"\n"
     ]
    }
   ],
   "metadata": {}
  },
  {
   "cell_type": "markdown",
   "source": [
    "## Exercise 12.5\n",
    "\n",
    "Salinlah code yang ada pada contoh 12.5"
   ],
   "metadata": {}
  },
  {
   "cell_type": "code",
   "execution_count": 7,
   "source": [
    "#kerjakan disini\r\n",
    "import time\r\n",
    "\r\n",
    "try:\r\n",
    "    f = open('coba.txt')\r\n",
    "    while True:\r\n",
    "        baris = f.readline()\r\n",
    "        if len(baris) == 0:\r\n",
    "            # EOF\r\n",
    "            break\r\n",
    "        print(baris)\r\n",
    "        time.sleep(2)\r\n",
    "except KeyboardInterrupt:\r\n",
    "    print('\\nAnda membatalkan operasi')\r\n",
    "finally:\r\n",
    "    f.close()\r\n",
    "    print('\\nfile ditutup')\r\n"
   ],
   "outputs": [
    {
     "output_type": "stream",
     "name": "stdout",
     "text": [
      "\n",
      "file ditutup\n"
     ]
    }
   ],
   "metadata": {}
  },
  {
   "cell_type": "markdown",
   "source": [
    "***\n",
    "<h1 align=\"center\">WELL DONE</h1>\n",
    " \n",
    "***"
   ],
   "metadata": {}
  }
 ],
 "metadata": {
  "interpreter": {
   "hash": "0dd272924c7cc597c5889018966c2ccb6c9651b4aec44649117dbf66b8c76eee"
  },
  "kernelspec": {
   "name": "python3",
   "display_name": "Python 3.10.4 64-bit"
  },
  "language_info": {
   "codemirror_mode": {
    "name": "ipython",
    "version": 3
   },
   "file_extension": ".py",
   "mimetype": "text/x-python",
   "name": "python",
   "nbconvert_exporter": "python",
   "pygments_lexer": "ipython3",
   "version": "3.10.4"
  },
  "orig_nbformat": 4
 },
 "nbformat": 4,
 "nbformat_minor": 2
}