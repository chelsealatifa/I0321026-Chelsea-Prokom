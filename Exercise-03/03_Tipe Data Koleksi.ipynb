{
 "cells": [
  {
   "cell_type": "markdown",
   "source": [
    "# Exercise 03  \n",
    "### LIST  \n",
    "Berikut merupakan sejumlah latihan untuk kalian dalam praktek programa komputer Modul 3.  \n",
    "Pertama buatlah sebuah list dengan nama variabel \"biodata\" dan isikan elemen terdiri dari :\n",
    "* Nama\n",
    "* NIM\n",
    "* Umur\n",
    "* Kota Asal\n",
    "* Hobi  \n",
    "\n",
    "Berikut contoh yang kami berikan\n"
   ],
   "metadata": {}
  },
  {
   "cell_type": "markdown",
   "source": [
    "![](./image/1.png)"
   ],
   "metadata": {}
  },
  {
   "cell_type": "code",
   "execution_count": 1,
   "source": [
    "#SOAL-1\r\n",
    "#BUATLAH LIST KALIAN DISINI\r\n",
    "biodata = [\"Chelsea Latifasari\", \"I0321026\", 18, \"Karanganyar\", \"Membaca\"]"
   ],
   "outputs": [],
   "metadata": {}
  },
  {
   "cell_type": "markdown",
   "source": [
    "Sekarang list kalian sudah terdefinisi ke dalam sebuah variabel.  \n",
    "Selanjutnya adalah contoh unuk mengakses elemen list.  \n",
    "  \n",
    "![](./image/2.png)"
   ],
   "metadata": {}
  },
  {
   "cell_type": "code",
   "execution_count": 8,
   "source": [
    "#SOAL-2\r\n",
    "#TULISKAN KEMBALI KODE DIATAS SESUAI DATA KALIAN MASING-MASING DISINI\r\n",
    "print(\"BIODATA\\n_____________________________\\nNAMA\\t:\", biodata[0], \"\\nNIM\\t:\", biodata[1],\r\n",
    "        \"\\nUSIA\\t:\", biodata[2], \"\\nASAL\\t:\", biodata[3], \"\\nHOBI\\t:\", biodata[4])"
   ],
   "outputs": [
    {
     "output_type": "stream",
     "name": "stdout",
     "text": [
      "BIODATA\n",
      "_____________________________\n",
      "NAMA\t: Chelsea Latifasari \n",
      "NIM\t: I0321026 \n",
      "USIA\t: 18 \n",
      "ASAL\t: Karanganyar \n",
      "HOBI\t: Membaca\n"
     ]
    }
   ],
   "metadata": {}
  },
  {
   "cell_type": "markdown",
   "source": [
    "Ternyata kita ingin menuliskan hobi lebih dari 1, maka selanjutnya kita akan mengubah hobi kita yang ada di list. Karena lebih dari 1 maka kita akan mengubah elemen hobi menjadi list of list.  \n",
    "\n",
    "![](./image/3.png)\n"
   ],
   "metadata": {}
  },
  {
   "cell_type": "code",
   "execution_count": 10,
   "source": [
    "#SOAL-3\r\n",
    "#TULISKAN KEMBALI KODE DIATAS SESUAI HOBI KALIAN DISINI\r\n",
    "biodata[4] = [\"Membaca\", \"Menyanyi\", \"Menonton Film\"]\r\n",
    "print(biodata)"
   ],
   "outputs": [
    {
     "output_type": "stream",
     "name": "stdout",
     "text": [
      "['Chelsea Latifasari', 'I0321026', 18, 'Karanganyar', ['Membaca', 'Menyanyi', 'Menonton Film']]\n"
     ]
    }
   ],
   "metadata": {}
  },
  {
   "cell_type": "markdown",
   "source": [
    "NIM merupakan data privasi di kondisi tertentu, maka sebaiknya kita menghapus nya.  \n",
    "\n",
    "![](./image/4.png)\n"
   ],
   "metadata": {}
  },
  {
   "cell_type": "code",
   "execution_count": 11,
   "source": [
    "#SOAL-4\r\n",
    "#KERJAKAN PUNYA KALIAN DISINI\r\n",
    "biodata.remove(\"I0321026\")\r\n",
    "print(biodata)"
   ],
   "outputs": [
    {
     "output_type": "stream",
     "name": "stdout",
     "text": [
      "['Chelsea Latifasari', 18, 'Karanganyar', ['Membaca', 'Menyanyi', 'Menonton Film']]\n"
     ]
    }
   ],
   "metadata": {}
  },
  {
   "cell_type": "markdown",
   "source": [
    "Untuk report final tuliskan kembali kode dengan format output seperti SOAL-2, namun dengan penyesuaian terhadap perubahan yang telah kalian lakukan sebelumnya."
   ],
   "metadata": {}
  },
  {
   "cell_type": "code",
   "execution_count": 20,
   "source": [
    "#SOAL-5\r\n",
    "#Kerjakan disini\r\n",
    "print(\"BIODATA\\n_____________________________\\nNAMA\\t:\", biodata[0], \r\n",
    "        \"\\nUSIA\\t:\", biodata[1], \"\\nASAL\\t:\", biodata[2], \"\\nHOBI\\t:\", biodata[3][0]+\",\", biodata[3][1]+\",\", biodata[3][2])"
   ],
   "outputs": [
    {
     "output_type": "stream",
     "name": "stdout",
     "text": [
      "BIODATA\n",
      "_____________________________\n",
      "NAMA\t: Chelsea Latifasari \n",
      "USIA\t: 18 \n",
      "ASAL\t: Karanganyar \n",
      "HOBI\t: Membaca, Menyanyi, Menonton Film\n"
     ]
    }
   ],
   "metadata": {}
  },
  {
   "cell_type": "markdown",
   "source": [
    "### DICTIONARY"
   ],
   "metadata": {}
  },
  {
   "cell_type": "markdown",
   "source": [
    "Berikut merupakan latihan mengenai tipe data dictionary.  \n",
    "Selamat berlatih.  \n",
    "Semangat!!!."
   ],
   "metadata": {}
  },
  {
   "cell_type": "code",
   "execution_count": 21,
   "source": [
    "#SILAHKAN ISI CODE RUMPANG BERIKUT SESUAI KONDISI KALIAN\r\n",
    "biodata = {'nama_depan':'Chelsea','nama_belakang':'Latifasari','usia':18,'kota_asal':'Karanganyar','hobi':'Membaca'}\r\n",
    "print('Nama Lengkap: ' + biodata['nama_depan'] + ' ' + biodata['nama_belakang'])\r\n",
    "\r\n",
    "#MENAMBAHKAN KEY&VALUE \"PRODI\" dan \"HOBI\" MASING-MASING\r\n",
    "biodata['prodi'] = 'Teknik Industri'\r\n",
    "print(biodata)\r\n",
    "\r\n",
    "#MENGUBAH VALUE PADA SEBUAH DICTIONARY\r\n",
    "biodata['hobi'] = 'Menyanyi'\r\n",
    "print(biodata)\r\n",
    "\r\n",
    "#MENGHAPUS SALAH SATU KEY-VALUE PAIRS\r\n",
    "del biodata['kota_asal']\r\n",
    "print(biodata)\r\n",
    "\r\n",
    "\r\n",
    "\r\n",
    "\r\n"
   ],
   "outputs": [
    {
     "output_type": "stream",
     "name": "stdout",
     "text": [
      "Nama Lengkap: Chelsea Latifasari\n",
      "{'nama_depan': 'Chelsea', 'nama_belakang': 'Latifasari', 'usia': 18, 'kota_asal': 'Karanganyar', 'hobi': 'Membaca', 'prodi': 'Teknik Industri'}\n",
      "{'nama_depan': 'Chelsea', 'nama_belakang': 'Latifasari', 'usia': 18, 'kota_asal': 'Karanganyar', 'hobi': 'Menyanyi', 'prodi': 'Teknik Industri'}\n",
      "{'nama_depan': 'Chelsea', 'nama_belakang': 'Latifasari', 'usia': 18, 'hobi': 'Menyanyi', 'prodi': 'Teknik Industri'}\n"
     ]
    }
   ],
   "metadata": {}
  },
  {
   "cell_type": "markdown",
   "source": [
    "### Cara Pengumpulan\n",
    "\n",
    "1. Buka *New Terminal*\n",
    "2. Pastikan *path* Terminal adalah folder repositori kalian (NIM-Nama-Prokom).\n",
    "3. Tambahkan file yang akan ditrack dengan `git add <nama file>`. Nama file bisa diubah . (titik)  `git add .`yang artinya semua file dalam folder akan ditrack.\n",
    "4. Lakukan commit perubahan dengan `git commit -m <deskripsi>`.\n",
    "5. Lakukan push dengan `git push -u origin <nama branch>`. Nama branch dapat diketahui dengan `git branch`.\n",
    "6. Pastikan Exercise-02 telah terupload dan dapat diakses di repositori dengan mengaksesnya di browser."
   ],
   "metadata": {}
  }
 ],
 "metadata": {
  "interpreter": {
   "hash": "43435a050d4ac362dc4b1b4851a0333547cf4819a4e47175b9a0f2919a9b0b1b"
  },
  "kernelspec": {
   "name": "python3",
   "display_name": "Python 3.9.7 64-bit"
  },
  "language_info": {
   "name": "python",
   "version": "3.9.7",
   "mimetype": "text/x-python",
   "codemirror_mode": {
    "name": "ipython",
    "version": 3
   },
   "pygments_lexer": "ipython3",
   "nbconvert_exporter": "python",
   "file_extension": ".py"
  },
  "orig_nbformat": 4
 },
 "nbformat": 4,
 "nbformat_minor": 2
}