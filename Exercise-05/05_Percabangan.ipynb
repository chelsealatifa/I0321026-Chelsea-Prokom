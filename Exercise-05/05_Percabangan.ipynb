{
 "cells": [
  {
   "cell_type": "markdown",
   "source": [
    "***\n",
    "<h1 align=\"center\">Exercise 05</h1>\n",
    " \n",
    "***\n",
    "## If untuk Satu Kasus\n",
    "Buatlah kode seperti berikut:\n",
    "\n",
    "![](./images/05_If1Kasus.png)\n",
    "\n",
    "Masukkan bilangan bulat sesuai dengan **3 digit terakhir nim kalian**."
   ],
   "metadata": {}
  },
  {
   "cell_type": "code",
   "execution_count": 8,
   "source": [
    "# Kerjakan di sini\r\n",
    "bilangan = int(input(\"Masukkan bilangan bulat: \"))\r\n",
    "\r\n",
    "if bilangan > 0:\r\n",
    "    print(bilangan,\"adalah bilangan bulat positif\")"
   ],
   "outputs": [
    {
     "output_type": "stream",
     "name": "stdout",
     "text": [
      "26 adalah bilangan bulat positif\n"
     ]
    }
   ],
   "metadata": {}
  },
  {
   "cell_type": "markdown",
   "source": [
    "## If untuk Dua Kasus\n",
    "Buatlah kode seperti berikut:\n",
    "\n",
    "![](./images/05_If2Kasus.png)\n",
    "\n",
    "Masukkan bilangan bulat sesuai dengan **3 digit terakhir nim kalian**."
   ],
   "metadata": {}
  },
  {
   "cell_type": "code",
   "execution_count": 9,
   "source": [
    "# Kerjakan di sini\r\n",
    "bilangan = int(input(\"Masukkan bilangan bulat: \"))\r\n",
    "\r\n",
    "if bilangan %2 == 0:\r\n",
    "    print(\"%d adalah bilangan genap\" % bilangan)\r\n",
    "else :\r\n",
    "    print(\"%d adalah bilangan ganjil\" % bilangan)"
   ],
   "outputs": [
    {
     "output_type": "stream",
     "name": "stdout",
     "text": [
      "26 adalah bilangan genap\n"
     ]
    }
   ],
   "metadata": {}
  },
  {
   "cell_type": "markdown",
   "source": [
    "## If untuk Tiga Kasus atau Selebihnya\n",
    "Buatlah kode seperti berikut:\n",
    "\n",
    "![](./images/05_If3Kasus.png)\n",
    "\n",
    "Kemudian jalankan program yang telah dibuat."
   ],
   "metadata": {}
  },
  {
   "cell_type": "code",
   "execution_count": 10,
   "source": [
    "# Kerjakan di sini\r\n",
    "print(\"Masukkan koordinat!\")\r\n",
    "x = int(input(\"Masukkan nilai x: \"))\r\n",
    "y = int(input(\"Masukkan nilai y: \"))\r\n",
    "info = \"Koordinat (\" + str(x) + \",\" + str(y) + \") berada pada kuadran \"\r\n",
    "if x > 0 and y > 0:\r\n",
    "    print(info + \"I\")\r\n",
    "elif x < 0 and y > 0:\r\n",
    "    print(info + \"II\")\r\n",
    "elif x < 0 and y < 0:\r\n",
    "    print(info + \"III\")\r\n",
    "elif x > 0 and y < 0:\r\n",
    "    print(info + \"IV\")\r\n",
    "else:\r\n",
    "    pass\r\n",
    "print()"
   ],
   "outputs": [
    {
     "output_type": "stream",
     "name": "stdout",
     "text": [
      "Masukkan koordinat!\n",
      "Koordinat (2,6) berada pada kuadran I\n",
      "\n"
     ]
    }
   ],
   "metadata": {}
  },
  {
   "cell_type": "markdown",
   "source": [
    "Buatlah sebuah program yang dapat digunakan untuk mengecek apakah usia seorang WNI sudah cukup/belum untuk membuat KTP, dengan ketentuan sebagai berikut:\n",
    "* Program harus dapat menerima **input usia** pengguna program\n",
    "* Usia yang diperbolehkan untuk membuat KTP adalah **minimal 17 tahun**\n",
    "* Program menggunakan **percabangan**\n",
    "* Program memberi informasi kepada pengguna apakah ia sudah berhak untuk membuat KTP atau belum"
   ],
   "metadata": {}
  },
  {
   "cell_type": "code",
   "execution_count": 7,
   "source": [
    "# Kerjakan di sini\r\n",
    "x = int(input(\"Masukkan usia Anda: \"))\r\n",
    "\r\n",
    "if x >= 17:\r\n",
    "    print(\"Anda berhak membuat KTP\")\r\n",
    "else:\r\n",
    "    print(\"Anda belum berhak membuat KTP\")"
   ],
   "outputs": [
    {
     "output_type": "stream",
     "name": "stdout",
     "text": [
      "Anda berhak membuat KTP\n"
     ]
    }
   ],
   "metadata": {}
  },
  {
   "cell_type": "markdown",
   "source": [
    "### Cara Pengumpulan\n",
    "\n",
    "1. Buka *New Terminal*\n",
    "2. Pastikan *path* Terminal adalah folder repositori kalian (NIM-Nama-Prokom).\n",
    "3. Tambahkan file yang akan ditrack dengan `git add <nama file>`. Nama file bisa diubah . (titik)  `git add .`yang artinya semua file dalam folder akan ditrack.\n",
    "4. Lakukan commit perubahan dengan `git commit -m <deskripsi>`.\n",
    "5. Lakukan push dengan `git push -u origin <nama branch>`. Nama branch dapat diketahui dengan `git branch`.\n",
    "6. Pastikan Exercise-02 telah terupload dan dapat diakses di repositori dengan mengaksesnya di browser."
   ],
   "metadata": {}
  },
  {
   "cell_type": "markdown",
   "source": [
    "***\n",
    "<h1 align=\"center\">Well Done!!!</h1>\n",
    "\n",
    "***"
   ],
   "metadata": {}
  }
 ],
 "metadata": {
  "interpreter": {
   "hash": "0dd272924c7cc597c5889018966c2ccb6c9651b4aec44649117dbf66b8c76eee"
  },
  "kernelspec": {
   "name": "python3",
   "display_name": "Python 3.10.4 64-bit"
  },
  "language_info": {
   "codemirror_mode": {
    "name": "ipython",
    "version": 3
   },
   "file_extension": ".py",
   "mimetype": "text/x-python",
   "name": "python",
   "nbconvert_exporter": "python",
   "pygments_lexer": "ipython3",
   "version": "3.10.4"
  },
  "orig_nbformat": 4
 },
 "nbformat": 4,
 "nbformat_minor": 2
}