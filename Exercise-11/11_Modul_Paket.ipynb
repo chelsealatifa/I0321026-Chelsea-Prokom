{
 "cells": [
  {
   "cell_type": "markdown",
   "source": [
    "***\n",
    "<h1 align=\"center\">Exercise 11</h1>\n",
    " \n",
    "***\n",
    "## Membuat Modul\n",
    "Silakan perhatikan file **Geometri2D** di ./data. \n",
    "Kemudian buatlah kode seperti berikut:\n",
    "\n",
    "![](./images/11_Geometri2D.png)\n"
   ],
   "metadata": {}
  },
  {
   "cell_type": "markdown",
   "source": [
    "## Perintah Import \n",
    "Buatlah kode seperti berikut:\n",
    "\n",
    "![](./images/11_Import.png)\n",
    "\n",
    "Ubah variabel **p** dengan **3 digit nim terakhir kalian** dan variabel **l** dengan **tanggal kalian mengerjakan**."
   ],
   "metadata": {}
  },
  {
   "cell_type": "code",
   "execution_count": 1,
   "source": [
    "# Kerjakan di sini\r\n",
    "from Data import Geometri2D\r\n",
    "p = 26\r\n",
    "l = 7\r\n",
    "\r\n",
    "luas = Geometri2D.LuasPersegiPanjang(p,l)\r\n",
    "kel = Geometri2D.KelilingPersegiPanjang(p,l)\r\n",
    "print(\"Persegi Panjang\")\r\n",
    "print(\"Panjang\\t\\t:\",p)\r\n",
    "print(\"Lebar\\t\\t:\",l)\r\n",
    "print(\"Luas\\t\\t:\", luas)\r\n",
    "print(\"Keliling\\t:\",kel)"
   ],
   "outputs": [
    {
     "output_type": "stream",
     "name": "stdout",
     "text": [
      "Persegi Panjang\n",
      "Panjang\t\t: 26\n",
      "Lebar\t\t: 7\n",
      "Luas\t\t: 182\n",
      "Keliling\t: 66\n"
     ]
    }
   ],
   "metadata": {}
  },
  {
   "cell_type": "markdown",
   "source": [
    "## Perintah From...Import \n",
    "Buatlah kode seperti berikut:\n",
    "\n",
    "![](./images/11_FromImport.png)\n",
    "\n",
    "Ubah variabel **p** dengan **3 digit nim terakhir kalian** dan variabel **l** dengan **tanggal kalian mengerjakan**."
   ],
   "metadata": {}
  },
  {
   "cell_type": "code",
   "execution_count": 2,
   "source": [
    "# Kerjakan di sini\r\n",
    "from Data.Geometri2D import LuasPersegiPanjang\r\n",
    "p = 26\r\n",
    "l = 7\r\n",
    "\r\n",
    "luas = Geometri2D.LuasPersegiPanjang(p,l)\r\n",
    "\r\n",
    "print(\"Persegi Panjang\")\r\n",
    "print(\"Panjang\\t\\t:\",p)\r\n",
    "print(\"Lebar\\t\\t:\",l)\r\n",
    "print(\"Luas\\t\\t:\", luas)"
   ],
   "outputs": [
    {
     "output_type": "stream",
     "name": "stdout",
     "text": [
      "Persegi Panjang\n",
      "Panjang\t\t: 26\n",
      "Lebar\t\t: 7\n",
      "Luas\t\t: 182\n"
     ]
    }
   ],
   "metadata": {}
  },
  {
   "cell_type": "markdown",
   "source": [
    "## Membuat Alias/Nama Lain Modul \n",
    "### 1. Nama Modul\n",
    "Buatlah kode seperti berikut:\n",
    "\n",
    "![](./images/11_Alias.png)\n",
    "\n",
    "Ubah variabel **p** dengan **3 digit nim terakhir kalian** dan variabel **l** dengan **tanggal kalian mengerjakan**."
   ],
   "metadata": {}
  },
  {
   "cell_type": "code",
   "execution_count": 3,
   "source": [
    "# Kerjakan di sini\r\n",
    "from Data import Geometri2D as DuaD\r\n",
    "p = 26\r\n",
    "l = 7\r\n",
    "\r\n",
    "luas = DuaD.LuasPersegiPanjang(p,l)\r\n",
    "\r\n",
    "print(\"Persegi Panjang\")\r\n",
    "print(\"Panjang\\t\\t:\",p)\r\n",
    "print(\"Lebar\\t\\t:\",l)\r\n",
    "print(\"Luas\\t\\t:\", luas)"
   ],
   "outputs": [
    {
     "output_type": "stream",
     "name": "stdout",
     "text": [
      "Persegi Panjang\n",
      "Panjang\t\t: 26\n",
      "Lebar\t\t: 7\n",
      "Luas\t\t: 182\n"
     ]
    }
   ],
   "metadata": {}
  },
  {
   "cell_type": "markdown",
   "source": [
    "### 2. Nama Fungsi\n",
    "Buatlah kode seperti berikut:\n",
    "\n",
    "![](./images/11_Alias2.png)\n",
    "\n",
    "Ubah variabel **p** dengan **3 digit nim terakhir kalian** dan variabel **l** dengan **tanggal kalian mengerjakan**."
   ],
   "metadata": {}
  },
  {
   "cell_type": "code",
   "execution_count": 4,
   "source": [
    "# Kerjakan di sini\r\n",
    "from Data.Geometri2D import LuasPersegiPanjang as LPP\r\n",
    "p = 26\r\n",
    "l = 7\r\n",
    "\r\n",
    "luas = LPP(p,l)\r\n",
    "\r\n",
    "print(\"Persegi Panjang\")\r\n",
    "print(\"Panjang\\t\\t:\",p)\r\n",
    "print(\"Lebar\\t\\t:\",l)\r\n",
    "print(\"Luas\\t\\t:\", luas)"
   ],
   "outputs": [
    {
     "output_type": "stream",
     "name": "stdout",
     "text": [
      "Persegi Panjang\n",
      "Panjang\t\t: 26\n",
      "Lebar\t\t: 7\n",
      "Luas\t\t: 182\n"
     ]
    }
   ],
   "metadata": {}
  },
  {
   "cell_type": "markdown",
   "source": [
    "## Membuat Paket \n",
    "Silakan perhatikan file **__init__.py** di ./Data.\n",
    "Kemudian isikan kode berikut ke dalam file **__init__.py**:\n",
    "\n",
    "![](./images/11_init.png)\n"
   ],
   "metadata": {}
  },
  {
   "cell_type": "markdown",
   "source": [
    "## Menggunakan Paket\n",
    "Buatlah kode seperti berikut:\n",
    "\n",
    "![](./images/11_Paket.png)\n",
    "\n",
    "Ubah variabel **sisi** dengan **tanggal kalian mengerjakan**."
   ],
   "metadata": {}
  },
  {
   "cell_type": "code",
   "execution_count": 6,
   "source": [
    "# Kerjakan di sini\r\n",
    "import Data.Geometri2D\r\n",
    "\r\n",
    "def main():\r\n",
    "    sisi = 7\r\n",
    "\r\n",
    "    luas = Data.Geometri2D.LuasBujurSangkar(sisi)\r\n",
    "\r\n",
    "    print(\"Bujur Sangkar\")\r\n",
    "    print(\"Panjang Sisi\\t:\",sisi)\r\n",
    "    print(\"Luas\\t\\t:\",luas)\r\n",
    "\r\n",
    "if __name__ == \"__main__\":\r\n",
    "    main()"
   ],
   "outputs": [
    {
     "output_type": "stream",
     "name": "stdout",
     "text": [
      "Bujur Sangkar\n",
      "Panjang Sisi\t: 7\n",
      "Luas\t\t: 49\n"
     ]
    }
   ],
   "metadata": {}
  },
  {
   "cell_type": "markdown",
   "source": [
    "***\n",
    "<h1 align=\"center\">Well Done!!!</h1>\n",
    "\n",
    "***"
   ],
   "metadata": {}
  }
 ],
 "metadata": {
  "interpreter": {
   "hash": "0dd272924c7cc597c5889018966c2ccb6c9651b4aec44649117dbf66b8c76eee"
  },
  "kernelspec": {
   "name": "python3",
   "display_name": "Python 3.10.4 64-bit"
  },
  "language_info": {
   "codemirror_mode": {
    "name": "ipython",
    "version": 3
   },
   "file_extension": ".py",
   "mimetype": "text/x-python",
   "name": "python",
   "nbconvert_exporter": "python",
   "pygments_lexer": "ipython3",
   "version": "3.10.4"
  },
  "orig_nbformat": 4
 },
 "nbformat": 4,
 "nbformat_minor": 2
}