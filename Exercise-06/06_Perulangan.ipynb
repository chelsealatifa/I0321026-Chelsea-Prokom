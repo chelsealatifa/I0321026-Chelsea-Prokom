{
 "cells": [
  {
   "cell_type": "markdown",
   "source": [
    "***\n",
    "<h1 align=\"center\">Exercise 06</h1>\n",
    " \n",
    "***\n",
    "## While Loop\n",
    "## Exercise 6.1\n",
    "isilah bagian rumpang berikut. xx diganti tanggal lahir dan yy diganti menjadi bulan lahir. tandanya menyesuaikan yang lebih besar."
   ],
   "metadata": {}
  },
  {
   "cell_type": "code",
   "execution_count": 1,
   "source": [
    "#menentukan banyak pengulangan\r\n",
    "n = 22\r\n",
    "\r\n",
    "#melakukan pengulangan\r\n",
    "i = 4\r\n",
    "\r\n",
    "while i <= n :\r\n",
    "    print (\"Apapun jalannya, satu tujuannya, yaitu menjadi kaya raya\")\r\n",
    "    #diisi motto kalian\r\n",
    "    i = i + 1 # sesuaikan dengan atas agar fungsi perulangan dapat berhenti"
   ],
   "outputs": [
    {
     "output_type": "stream",
     "name": "stdout",
     "text": [
      "Apapun jalannya, satu tujuannya, yaitu menjadi kaya raya\n",
      "Apapun jalannya, satu tujuannya, yaitu menjadi kaya raya\n",
      "Apapun jalannya, satu tujuannya, yaitu menjadi kaya raya\n",
      "Apapun jalannya, satu tujuannya, yaitu menjadi kaya raya\n",
      "Apapun jalannya, satu tujuannya, yaitu menjadi kaya raya\n",
      "Apapun jalannya, satu tujuannya, yaitu menjadi kaya raya\n",
      "Apapun jalannya, satu tujuannya, yaitu menjadi kaya raya\n",
      "Apapun jalannya, satu tujuannya, yaitu menjadi kaya raya\n",
      "Apapun jalannya, satu tujuannya, yaitu menjadi kaya raya\n",
      "Apapun jalannya, satu tujuannya, yaitu menjadi kaya raya\n",
      "Apapun jalannya, satu tujuannya, yaitu menjadi kaya raya\n",
      "Apapun jalannya, satu tujuannya, yaitu menjadi kaya raya\n",
      "Apapun jalannya, satu tujuannya, yaitu menjadi kaya raya\n",
      "Apapun jalannya, satu tujuannya, yaitu menjadi kaya raya\n",
      "Apapun jalannya, satu tujuannya, yaitu menjadi kaya raya\n",
      "Apapun jalannya, satu tujuannya, yaitu menjadi kaya raya\n",
      "Apapun jalannya, satu tujuannya, yaitu menjadi kaya raya\n",
      "Apapun jalannya, satu tujuannya, yaitu menjadi kaya raya\n",
      "Apapun jalannya, satu tujuannya, yaitu menjadi kaya raya\n"
     ]
    }
   ],
   "metadata": {}
  },
  {
   "cell_type": "markdown",
   "source": [
    "## Exercise 6.2\n",
    "\n",
    "Buatlah code seperti yang dicontohkan pada modul agar user dapat menginputkan sendiri jumlah n yang diinginkan"
   ],
   "metadata": {}
  },
  {
   "cell_type": "code",
   "execution_count": 3,
   "source": [
    "#Kerjakan disini\r\n",
    "n = int(input(\"input nilai n: \"))\r\n",
    "i = 6\r\n",
    "while i <= n :\r\n",
    "    print (i)\r\n",
    "    i = i + 1"
   ],
   "outputs": [
    {
     "output_type": "stream",
     "name": "stdout",
     "text": [
      "6\n",
      "7\n",
      "8\n",
      "9\n",
      "10\n",
      "11\n"
     ]
    }
   ],
   "metadata": {}
  },
  {
   "cell_type": "markdown",
   "source": [
    "## Excercise 6.3\n",
    "\n",
    "isilah xx, yy, dan tanda rumpang seperti pada exercise 6.1\n"
   ],
   "metadata": {}
  },
  {
   "cell_type": "code",
   "execution_count": 1,
   "source": [
    "#melakukan pengulangan\r\n",
    "i = 22\r\n",
    "\r\n",
    "while i >= 4 :\r\n",
    "    print (\"Baris ke-%d : Avengers End Game\"%i)\r\n",
    "    #isi titik-titik dengan judul film favorit kalian\r\n",
    "    i = i - 1 "
   ],
   "outputs": [
    {
     "output_type": "stream",
     "name": "stdout",
     "text": [
      "Baris ke-22 : Avengers End Game\n",
      "Baris ke-21 : Avengers End Game\n",
      "Baris ke-20 : Avengers End Game\n",
      "Baris ke-19 : Avengers End Game\n",
      "Baris ke-18 : Avengers End Game\n",
      "Baris ke-17 : Avengers End Game\n",
      "Baris ke-16 : Avengers End Game\n",
      "Baris ke-15 : Avengers End Game\n",
      "Baris ke-14 : Avengers End Game\n",
      "Baris ke-13 : Avengers End Game\n",
      "Baris ke-12 : Avengers End Game\n",
      "Baris ke-11 : Avengers End Game\n",
      "Baris ke-10 : Avengers End Game\n",
      "Baris ke-9 : Avengers End Game\n",
      "Baris ke-8 : Avengers End Game\n",
      "Baris ke-7 : Avengers End Game\n",
      "Baris ke-6 : Avengers End Game\n",
      "Baris ke-5 : Avengers End Game\n",
      "Baris ke-4 : Avengers End Game\n"
     ]
    }
   ],
   "metadata": {}
  },
  {
   "cell_type": "markdown",
   "source": [
    "## FOR LOOP\n",
    "\n",
    "## Exercise 6.4\n",
    "\n",
    "munculkan 3 dari 7 elemen yang berada di dalam list1 dan list2\n"
   ],
   "metadata": {}
  },
  {
   "cell_type": "code",
   "execution_count": 4,
   "source": [
    "list1 = [\"Indomie goreng\",\"sate ayam\",\"telur mata sapi\",\"kerang goreng\",\"cumi asam manis\",\"udang asam manis\",\"otak sapi\"] #masukkan 7 list makanan favorit kalian\r\n",
    "list2 = [\"Solo\",\"Klungkung\",\"Malang\",\"Yogyakarta\",\"Bandung\",\"Semarang\",\"Bekasi\"] #masukkan 7 list kota favorit kalian\r\n",
    "\r\n",
    "for i in range(0,3) :\r\n",
    "    print(i+1, list1[i] , list2[i])"
   ],
   "outputs": [
    {
     "output_type": "stream",
     "name": "stdout",
     "text": [
      "1 Indomie goreng Solo\n",
      "2 sate ayam Klungkung\n",
      "3 telur mata sapi Malang\n"
     ]
    }
   ],
   "metadata": {}
  },
  {
   "cell_type": "markdown",
   "source": [
    "## Perulangan Bersarang\n",
    "\n",
    "## Exercise 6.5"
   ],
   "metadata": {}
  },
  {
   "cell_type": "code",
   "execution_count": 8,
   "source": [
    "i = 22\r\n",
    "while i >= 4:\r\n",
    "    j = 22\r\n",
    "    while j>=i:\r\n",
    "        print(\"%d \" % (i*j), end = '')\r\n",
    "        j = j - 1\r\n",
    "    print()\r\n",
    "    i-=1"
   ],
   "outputs": [
    {
     "output_type": "stream",
     "name": "stdout",
     "text": [
      "484 \n",
      "462 441 \n",
      "440 420 400 \n",
      "418 399 380 361 \n",
      "396 378 360 342 324 \n",
      "374 357 340 323 306 289 \n",
      "352 336 320 304 288 272 256 \n",
      "330 315 300 285 270 255 240 225 \n",
      "308 294 280 266 252 238 224 210 196 \n",
      "286 273 260 247 234 221 208 195 182 169 \n",
      "264 252 240 228 216 204 192 180 168 156 144 \n",
      "242 231 220 209 198 187 176 165 154 143 132 121 \n",
      "220 210 200 190 180 170 160 150 140 130 120 110 100 \n",
      "198 189 180 171 162 153 144 135 126 117 108 99 90 81 \n",
      "176 168 160 152 144 136 128 120 112 104 96 88 80 72 64 \n",
      "154 147 140 133 126 119 112 105 98 91 84 77 70 63 56 49 \n",
      "132 126 120 114 108 102 96 90 84 78 72 66 60 54 48 42 36 \n",
      "110 105 100 95 90 85 80 75 70 65 60 55 50 45 40 35 30 25 \n",
      "88 84 80 76 72 68 64 60 56 52 48 44 40 36 32 28 24 20 16 \n"
     ]
    }
   ],
   "metadata": {}
  },
  {
   "cell_type": "markdown",
   "source": [
    "## Pernyataan Loncat\n",
    "\n",
    "## Exercise 6.\n",
    "\n",
    "Buatlah fungsi berikut agar muncul angka hingga berhenti sesuai dengan nilai qq\n",
    "qq = angka favorit kalian\n",
    "pp>qq"
   ],
   "metadata": {}
  },
  {
   "cell_type": "code",
   "execution_count": 9,
   "source": [
    "for i in range(22):\r\n",
    "    print(i,end='')\r\n",
    "    if i == 11:\r\n",
    "        break"
   ],
   "outputs": [
    {
     "output_type": "stream",
     "name": "stdout",
     "text": [
      "01234567891011"
     ]
    }
   ],
   "metadata": {}
  },
  {
   "cell_type": "markdown",
   "source": [
    "***\n",
    "<h1 align=\"center\">WELL DONE</h1>\n",
    " \n",
    "***"
   ],
   "metadata": {}
  }
 ],
 "metadata": {
  "interpreter": {
   "hash": "0dd272924c7cc597c5889018966c2ccb6c9651b4aec44649117dbf66b8c76eee"
  },
  "kernelspec": {
   "name": "python3",
   "display_name": "Python 3.10.4 64-bit"
  },
  "language_info": {
   "codemirror_mode": {
    "name": "ipython",
    "version": 3
   },
   "file_extension": ".py",
   "mimetype": "text/x-python",
   "name": "python",
   "nbconvert_exporter": "python",
   "pygments_lexer": "ipython3",
   "version": "3.10.4"
  },
  "orig_nbformat": 4
 },
 "nbformat": 4,
 "nbformat_minor": 2
}