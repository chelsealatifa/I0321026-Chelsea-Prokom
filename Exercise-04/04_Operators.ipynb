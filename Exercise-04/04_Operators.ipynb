{
 "cells": [
  {
   "cell_type": "markdown",
   "source": [
    "***\n",
    "<h1 align=\"center\">Exercise 04</h1>\n",
    " \n",
    "***\n",
    "## Operator Aritmetika\n",
    "Buatlah kode seperti berikut:\n",
    "![](./images/04_operatorAritmetika.png)\n",
    "Ubah variabel **x** dengan **3 digit terakhir nim kalian** dan ubah variabel **y** dengan **tanggal kalian mengerjakan**."
   ],
   "metadata": {}
  },
  {
   "cell_type": "code",
   "execution_count": 53,
   "source": [
    "# Kerjakan disini\r\n",
    "\r\n",
    "x = 26\r\n",
    "y = 31\r\n",
    "\r\n",
    "print('x + y =', x+y)\r\n",
    "print('x - y =', x-y)\r\n",
    "print('x * y =', x*y)\r\n",
    "print('x / y =', x/y)\r\n",
    "print('x // y =', x//y)\r\n",
    "print('x ** y =', x**y)\r\n",
    "\r\n",
    "# Jangan hapus kode di bawah ini \r\n",
    "%reset -f"
   ],
   "outputs": [
    {
     "output_type": "stream",
     "name": "stdout",
     "text": [
      "x + y = 57\n",
      "x - y = -5\n",
      "x * y = 806\n",
      "x / y = 0.8387096774193549\n",
      "x // y = 0\n",
      "x ** y = 73143171433403393900724146770015259539275776\n"
     ]
    }
   ],
   "metadata": {}
  },
  {
   "cell_type": "markdown",
   "source": [
    "## Operator Relasional/*Comparison*\n",
    "Buatlah kode seperti berikut dan jalankan!\n",
    "![](./images/04_operatorRelasional.png)\n"
   ],
   "metadata": {}
  },
  {
   "cell_type": "code",
   "execution_count": 54,
   "source": [
    "# Kerjakan disini\r\n",
    "x = 15\r\n",
    "x = 10\r\n",
    "y = 12\r\n",
    "\r\n",
    "print('x > y is', x>y)\r\n",
    "print('x < y is', x<y)\r\n",
    "print('x == y is', x==y)\r\n",
    "print('x != y is', x!=y)\r\n",
    "print('x >= y is', x>=y)\r\n",
    "print('x <= y is', x<=y)\r\n",
    "\r\n",
    "# Jangan hapus kode di bawah ini \r\n",
    "%reset -f"
   ],
   "outputs": [
    {
     "output_type": "stream",
     "name": "stdout",
     "text": [
      "x > y is False\n",
      "x < y is True\n",
      "x == y is False\n",
      "x != y is True\n",
      "x >= y is False\n",
      "x <= y is True\n"
     ]
    }
   ],
   "metadata": {}
  },
  {
   "cell_type": "markdown",
   "source": [
    "## Operator Logika\n",
    "Lengkapi kode program yang rumpang dibawah!\n"
   ],
   "metadata": {}
  },
  {
   "cell_type": "code",
   "execution_count": 55,
   "source": [
    "x = 7\r\n",
    "y = 20\r\n",
    "print('x > 5 and 10 < y is',x>5 and 10 < y) \r\n",
    "print('x or y more than or equal to 10 is', x>=10 or y>=10)\r\n",
    "print('x or y not more than or equal to 10 is',not(x>=10 or y>=10))\r\n",
    "\r\n",
    "%reset -f"
   ],
   "outputs": [
    {
     "output_type": "stream",
     "name": "stdout",
     "text": [
      "x > 5 and 10 < y is True\n",
      "x or y more than or equal to 10 is True\n",
      "x or y not more than or equal to 10 is False\n"
     ]
    }
   ],
   "metadata": {}
  },
  {
   "cell_type": "markdown",
   "source": [
    "## Operator String\n",
    "\n",
    "### 1. Concat strings\n",
    "Buat kode program pada cell selanjutnya seperti contoh berikut ini dengan mengubah variabel **str1** dengan nama depan kalian dan **str2** dengan nama belakang kalian!\n",
    "![](./images/04_concatStrings.png)"
   ],
   "metadata": {}
  },
  {
   "cell_type": "code",
   "execution_count": 56,
   "source": [
    "# Kerjakan disini\r\n",
    "\r\n",
    "str1 = \"Chelsea\"\r\n",
    "str2 = \"Latifasari\"\r\n",
    "\r\n",
    "result = str1 + \" \" + str2\r\n",
    "\r\n",
    "print(result)\r\n",
    "# Jangan hapus kode di bawah ini \r\n",
    "%reset -f"
   ],
   "outputs": [
    {
     "output_type": "stream",
     "name": "stdout",
     "text": [
      "Chelsea Latifasari\n"
     ]
    }
   ],
   "metadata": {}
  },
  {
   "cell_type": "markdown",
   "source": [
    "### 2. Replikasi strings\n",
    "Buat kode program pada cell selanjutnya seperti contoh berikut ini!\n",
    "![](./images/04_replikasiStrings.png)"
   ],
   "metadata": {}
  },
  {
   "cell_type": "code",
   "execution_count": 57,
   "source": [
    "# Kerjakan disini\r\n",
    "\r\n",
    "str = \"WK\"\r\n",
    "\r\n",
    "result = str * 3\r\n",
    "\r\n",
    "print(result)\r\n",
    "\r\n",
    "# Jangan hapus kode di bawah ini \r\n",
    "%reset -f"
   ],
   "outputs": [
    {
     "output_type": "stream",
     "name": "stdout",
     "text": [
      "WKWKWK\n"
     ]
    }
   ],
   "metadata": {}
  },
  {
   "cell_type": "markdown",
   "source": [
    "### 3. Pengecekan membership– in\n",
    "Buat kode program pada cell selanjutnya seperti contoh berikut ini!\n",
    "![](./images/04_pengecekanMembership-in.png)\n",
    "Kemudian jalankan program yang telah dibuat."
   ],
   "metadata": {}
  },
  {
   "cell_type": "code",
   "execution_count": 58,
   "source": [
    "# Kerjakan disini\r\n",
    "\r\n",
    "needle = \"lo\"\r\n",
    "haystack = \"Hello World\"\r\n",
    "\r\n",
    "if needle in haystack:\r\n",
    "    print(needle, \"is present in the string\", haystack)\r\n",
    "else:\r\n",
    "    print(\"Not found\")\r\n",
    "\r\n",
    "# Jangan hapus kode di bawah ini \r\n",
    "%reset -f"
   ],
   "outputs": [
    {
     "output_type": "stream",
     "name": "stdout",
     "text": [
      "lo is present in the string Hello World\n"
     ]
    }
   ],
   "metadata": {}
  },
  {
   "cell_type": "markdown",
   "source": [
    "### 4. Checking membership - not in\n",
    "Buat kode program pada cell selanjutnya seperti contoh berikut ini!\n",
    "![](./images/04_pengecekanMembership-out.png)\n",
    "Kemudian jalankan program yang dibuat."
   ],
   "metadata": {}
  },
  {
   "cell_type": "code",
   "execution_count": 59,
   "source": [
    "# Kerjakan disini\r\n",
    "\r\n",
    "needle = \"HA\"\r\n",
    "haystack = \"Hello World\"\r\n",
    "\r\n",
    "if needle in haystack:\r\n",
    "    print(needle, \"is present in the string\", haystack)\r\n",
    "else:\r\n",
    "    print(\"Not found\")\r\n",
    "    \r\n",
    "# Jangan hapus kode di bawah ini \r\n",
    "%reset -f"
   ],
   "outputs": [
    {
     "output_type": "stream",
     "name": "stdout",
     "text": [
      "Not found\n"
     ]
    }
   ],
   "metadata": {}
  },
  {
   "cell_type": "markdown",
   "source": [
    "### 5. Mengakses karakter dalam string\n",
    "Buat kode program pada cell selanjutnya seperti contoh berikut ini dengan mengubah variabel **str** dengan nama depan kalian!\n",
    "![](./images/04_mengaksesString.png)\n",
    "Kemudian jalankan program yang dibuat."
   ],
   "metadata": {}
  },
  {
   "cell_type": "code",
   "execution_count": 60,
   "source": [
    "# Kerjakan disini\r\n",
    "\r\n",
    "str = \"Chelsea\"\r\n",
    "\r\n",
    "ch = str[1]\r\n",
    "\r\n",
    "print(ch)\r\n",
    "\r\n",
    "# Jangan hapus kode di bawah ini \r\n",
    "%reset -f"
   ],
   "outputs": [
    {
     "output_type": "stream",
     "name": "stdout",
     "text": [
      "h\n"
     ]
    }
   ],
   "metadata": {}
  },
  {
   "cell_type": "markdown",
   "source": [
    "### 6. Substring\n",
    "Berdasarkan contoh di bawah, buatlah program yang memberi output **3** huruf terakhir dari **nama depan** kalian!\n",
    "![](./images/04_substring.png)\n",
    "Kemudian jalankan program yang dibuat."
   ],
   "metadata": {}
  },
  {
   "cell_type": "code",
   "execution_count": 61,
   "source": [
    "# Kerjakan disini\r\n",
    "\r\n",
    "str = \"Chelsea\" \r\n",
    "\r\n",
    "substr = str[4:7]\r\n",
    "\r\n",
    "print(substr)\r\n",
    "\r\n",
    "# Jangan hapus kode di bawah ini \r\n",
    "%reset -f"
   ],
   "outputs": [
    {
     "output_type": "stream",
     "name": "stdout",
     "text": [
      "sea\n"
     ]
    }
   ],
   "metadata": {}
  },
  {
   "cell_type": "markdown",
   "source": [
    "### 7. Skipping characters\n",
    "Berdasarkan contoh di bawah, buatlah program yang memberi output substring berindeks ganjil dari string **nama kota asal kalian**!\n",
    "![](./images/04_skipping.png)\n",
    "Kemudian jalankan program yang dibuat."
   ],
   "metadata": {}
  },
  {
   "cell_type": "code",
   "execution_count": 62,
   "source": [
    "# Kerjakan disini\r\n",
    "\r\n",
    "str = \"Karanganyar\"\r\n",
    "\r\n",
    "new_str = str[1::2]\r\n",
    "\r\n",
    "print(new_str)\r\n",
    "\r\n",
    "# Jangan hapus kode di bawah ini \r\n",
    "%reset -f"
   ],
   "outputs": [
    {
     "output_type": "stream",
     "name": "stdout",
     "text": [
      "aagna\n"
     ]
    }
   ],
   "metadata": {}
  },
  {
   "cell_type": "markdown",
   "source": [
    "### 8. Reverse string\n",
    "Berdasarkan contoh di bawah, buatlah program yang membalikkan string **nama kota asal kalian**!\n",
    "![](./images/04_reverse.png)\n",
    "Kemudian jalankan program yang dibuat."
   ],
   "metadata": {}
  },
  {
   "cell_type": "code",
   "execution_count": 63,
   "source": [
    "# Kerjakan disini\r\n",
    "\r\n",
    "str = \"Karanganyar\"\r\n",
    "\r\n",
    "result = str[::-1]\r\n",
    "\r\n",
    "print(result)\r\n",
    "# Jangan hapus kode di bawah ini \r\n",
    "%reset -f"
   ],
   "outputs": [
    {
     "output_type": "stream",
     "name": "stdout",
     "text": [
      "raynagnaraK\n"
     ]
    }
   ],
   "metadata": {}
  },
  {
   "cell_type": "markdown",
   "source": [
    "## Operator Bitwise"
   ],
   "metadata": {}
  },
  {
   "cell_type": "markdown",
   "source": [
    "Buat ulang kode program di bawah ini!\n",
    "![](./images/04_operatorBitwise.png)\n",
    "Kemudian jalankan program yang dibuat."
   ],
   "metadata": {}
  },
  {
   "cell_type": "code",
   "execution_count": 64,
   "source": [
    "# Kerjakan disini\r\n",
    "\r\n",
    "a = 10\r\n",
    "b = 4\r\n",
    "\r\n",
    "print(\"a & b =\", a & b)\r\n",
    "print(\"a | b =\", a | b)\r\n",
    "print(\"~a =\", ~a)\r\n",
    "print(\"a ^ b =\", a ^ b)\r\n",
    "\r\n",
    "# Jangan hapus kode di bawah ini \r\n",
    "%reset -f\r\n"
   ],
   "outputs": [
    {
     "output_type": "stream",
     "name": "stdout",
     "text": [
      "a & b = 0\n",
      "a | b = 14\n",
      "~a = -11\n",
      "a ^ b = 14\n"
     ]
    }
   ],
   "metadata": {}
  },
  {
   "cell_type": "markdown",
   "source": [
    "### Membuat kode\n",
    "Untuk sebuah skenario berikut, tulis program pada Cell Python dibawah.\n",
    "\n",
    "Untuk mendaftar kursus online, calon peserta harus berusia minimal 21 tahun dan telah lulus tes substansi. Pengguna akan ditanyai pertanyaan-pertanyaan berikut:\n",
    "1. Berapa usia anda?\n",
    "2. Apakah anda lulus tes substansi (Y/T)?\n",
    "\n",
    "Tanggapan/response dari pertanyaan berupa string berikut:\n",
    "1. “Anda dapat mendaftar di kursus.”, atau\n",
    "2. “Anda tidak dapat mendaftar di kursus.”"
   ],
   "metadata": {}
  },
  {
   "cell_type": "code",
   "execution_count": 65,
   "source": [
    "#Buat kode disini\r\n",
    "usia = int(input(\"Berapa usia Anda?\"))\r\n",
    "tes = str(input(\"Apakah Anda lulus tes substansi? [Y/T]\"))\r\n",
    "\r\n",
    "if not(usia >= 21 and tes == \"Y\") :\r\n",
    "    print(\"Anda tidak dapat mendaftar di kursus\")\r\n",
    "else :\r\n",
    "    print(\"Anda dapat mendaftar di kursus\")"
   ],
   "outputs": [
    {
     "output_type": "stream",
     "name": "stdout",
     "text": [
      "Anda dapat mendaftar di kursus\n"
     ]
    }
   ],
   "metadata": {}
  },
  {
   "cell_type": "markdown",
   "source": [
    "### Cara Pengumpulan\n",
    "\n",
    "1. Buka *New Terminal*\n",
    "2. Pastikan *path* Terminal adalah folder repositori kalian (NIM-Nama-Prokom).\n",
    "3. Tambahkan file yang akan ditrack dengan `git add <nama file>`. Nama file bisa diubah . (titik) yang artinya semua file dalam folder akan ditrack.\n",
    "4. Lakukan commit perubahan dengan `git commit -m <deskripsi>`.\n",
    "5. Lakukan push dengan `git push -u origin <nama branch>`. Nama branch dapat diketahui dengan `git branch`.\n",
    "6. Pastikan Exercise-02 telah terupload dan dapat diakses di repositori dengan mengaksesnya di browser."
   ],
   "metadata": {}
  },
  {
   "cell_type": "markdown",
   "source": [
    "***\n",
    "<h1 align=\"center\">Well Done!!!</h1>\n",
    "\n",
    "***"
   ],
   "metadata": {}
  }
 ],
 "metadata": {
  "interpreter": {
   "hash": "ac59ebe37160ed0dfa835113d9b8498d9f09ceb179beaac4002f036b9467c963"
  },
  "kernelspec": {
   "display_name": "Python 3.9.8 64-bit",
   "language": "python",
   "name": "python3"
  },
  "language_info": {
   "codemirror_mode": {
    "name": "ipython",
    "version": 3
   },
   "file_extension": ".py",
   "mimetype": "text/x-python",
   "name": "python",
   "nbconvert_exporter": "python",
   "pygments_lexer": "ipython3",
   "version": "3.9.8"
  },
  "orig_nbformat": 4
 },
 "nbformat": 4,
 "nbformat_minor": 2
}