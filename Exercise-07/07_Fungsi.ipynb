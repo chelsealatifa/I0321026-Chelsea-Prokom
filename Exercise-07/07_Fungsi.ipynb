{
 "cells": [
  {
   "cell_type": "markdown",
   "source": [
    "***\n",
    "<h1 align=\"center\">Exercise 07</h1>\n",
    "\n",
    "***\n",
    "## Memanggil Fungsi\n",
    "\n",
    "### 1. Fungsi tanpa Nilai Balik\n",
    "Buatlah kode seperti contoh berikut pada cell di bawah\n",
    "> Ubah variabel **cetak** sesuai dengan **umur** kalian!\n",
    "\n",
    "![](./images/07_TanpaNB.png)"
   ],
   "metadata": {}
  },
  {
   "cell_type": "code",
   "execution_count": 14,
   "source": [
    "#kerjakan disini\r\n",
    "cetak = 18\r\n",
    "print(\"Umur=\", cetak)"
   ],
   "outputs": [
    {
     "output_type": "stream",
     "name": "stdout",
     "text": [
      "Umur= 18\n"
     ]
    }
   ],
   "metadata": {}
  },
  {
   "cell_type": "markdown",
   "source": [
    "### 2. Fungsi dengan Nilai Balik\n",
    "Buatlah kode seperti contoh berikut pada cell di bawah\n",
    "> Ubah variabel **x** dengan 2 digit terakhir **NIM** kalian!\n",
    "\n",
    "> Ubah variabel **y** dengan **angka 7**!\n",
    "\n",
    "![](./images/07_DenganNB.png)"
   ],
   "metadata": {}
  },
  {
   "cell_type": "code",
   "execution_count": 13,
   "source": [
    "#Kerjakan disini!\r\n",
    "x = 26\r\n",
    "y = 7\r\n",
    "print(\"x =\", x)\r\n",
    "print(\"y =\", y)\r\n",
    "print(\"hasil (x+y)=\", x+y)"
   ],
   "outputs": [
    {
     "output_type": "stream",
     "name": "stdout",
     "text": [
      "x = 26\n",
      "y = 7\n",
      "hasil (x+y)= 33\n"
     ]
    }
   ],
   "metadata": {}
  },
  {
   "cell_type": "markdown",
   "source": [
    "## Variabel Global dan Variabel Lokal\n",
    "Buatlah kode seperti contoh berikut pada cell di bawah\n",
    "> Pada variabel global, ubah **nama** menjadi **nama panggilan** kalian!\n",
    "\n",
    "> Pada variabel lokal, ubah **nama** menjadi **nama lengkap** kalian!\n",
    "\n",
    "![](./images/07_GlobalLokal.png)"
   ],
   "metadata": {}
  },
  {
   "cell_type": "code",
   "execution_count": 18,
   "source": [
    "#Kerjakan disini\r\n",
    "nama = \"Chelsea\"\r\n",
    "tahun = \"2021\"\r\n",
    "\r\n",
    "def help():\r\n",
    "    nama = \"Chelsea Latifasari\"\r\n",
    "    tahun = \"21\"\r\n",
    "    print(\"nama = %s\" % nama)\r\n",
    "    print(\"tahun = %s\" % tahun)\r\n",
    "\r\n",
    "print(\"nama = %s\" % nama)\r\n",
    "print(\"tahun = %s\" % tahun)\r\n",
    "help()"
   ],
   "outputs": [
    {
     "output_type": "stream",
     "name": "stdout",
     "text": [
      "nama = Chelsea\n",
      "tahun = 2021\n",
      "nama = Chelsea Latifasari\n",
      "tahun = 21\n"
     ]
    }
   ],
   "metadata": {}
  },
  {
   "cell_type": "markdown",
   "source": [
    "## Parameter di Dalam Fungsi\n",
    "Buatlah kode seperti contoh berikut pada cell di bawah\n",
    "\n",
    "![](./images/07_Parameter.png)"
   ],
   "metadata": {}
  },
  {
   "cell_type": "code",
   "execution_count": 17,
   "source": [
    "#Kerjakan disini\r\n",
    "import math\r\n",
    "def main():\r\n",
    "    x = math.sqrt(4)\r\n",
    "    y = math.sqrt(81)\r\n",
    "    print(\"x = \", x)\r\n",
    "    print(\"y = \", y)\r\n",
    "main()"
   ],
   "outputs": [
    {
     "output_type": "stream",
     "name": "stdout",
     "text": [
      "x =  2.0\n",
      "y =  9.0\n"
     ]
    }
   ],
   "metadata": {}
  },
  {
   "cell_type": "markdown",
   "source": [
    "## Fungsi di Dalam Fungsi\n",
    "Buatlah kode seperti contoh berikut pada cell di bawah\n",
    "> Ubah parameter **start_minute** dan **start_second** dengan waktu yang kalian inginkan\n",
    "\n",
    "![](./images/07_FungsidlmFungsi.png)"
   ],
   "metadata": {}
  },
  {
   "cell_type": "code",
   "execution_count": 1,
   "source": [
    "#Kerjakan disini\r\n",
    "import time\r\n",
    "\r\n",
    "def countdownTimer(start_minute, start_second):\r\n",
    "    total_second = start_minute * 60 + start_second\r\n",
    "    while total_second:\r\n",
    "        mins, secs = divmod(total_second, 60)\r\n",
    "        print(f'{mins:02d} : {secs:02d}', end='\\r')\r\n",
    "        time.sleep(1)\r\n",
    "        total_second -= 1\r\n",
    "def main():\r\n",
    "    countdownTimer(0,22)\r\n",
    "    print(\"Done!\")\r\n",
    "\r\n",
    "main()\r\n"
   ],
   "outputs": [
    {
     "output_type": "stream",
     "name": "stdout",
     "text": [
      "Done!\n"
     ]
    }
   ],
   "metadata": {}
  },
  {
   "cell_type": "markdown",
   "source": [
    "## Fungsi yang Mengembalikan Fungsi\n",
    "Buatlah kode seperti contoh berikut pada cell di bawah\n",
    "\n",
    "![](./images/07_Mengembalikan.png)"
   ],
   "metadata": {}
  },
  {
   "cell_type": "code",
   "execution_count": 2,
   "source": [
    "#Kerjakan disini\r\n",
    "def panggil(func):\r\n",
    "    return func\r\n",
    "def helloworld():\r\n",
    "    return \"HELLO WORLD\"\r\n",
    "def main():\r\n",
    "    s = panggil(helloworld())\r\n",
    "    print(s)\r\n",
    "if __name__== '__main__':\r\n",
    "    main()"
   ],
   "outputs": [
    {
     "output_type": "stream",
     "name": "stdout",
     "text": [
      "HELLO WORLD\n"
     ]
    }
   ],
   "metadata": {}
  },
  {
   "cell_type": "markdown",
   "source": [
    "## Membuat Fungsi Tanpa Nama dengan Operator Lambda\n",
    "Buatlah kode seperti contoh berikut pada cell di bawah\n",
    "> Ubah list **daftarnama** menjadi tiap **suku kata nama** kalian dengan campuran huruf kapital dan huruf kecil!\n",
    "\n",
    "![](./images/07_Lambda.png)"
   ],
   "metadata": {}
  },
  {
   "cell_type": "code",
   "execution_count": 3,
   "source": [
    "#Kerjakan disini\r\n",
    "def main():\r\n",
    "    daftarnama = [\"Chel\", \"Sea\", \"La\", \"Ti\", \"Fa\", \"Sa\", \"Ri\"]\r\n",
    "    print(\"Keadaan awal\")\r\n",
    "    print(daftarnama)\r\n",
    "\r\n",
    "    print(\"\\nMenggunakan sorted():\")\r\n",
    "    print(sorted(daftarnama))\r\n",
    "\r\n",
    "    daftarnama.sort(key=lambda n: n.lower())\r\n",
    "\r\n",
    "    print(\"\\nKeadaan akhir:\")\r\n",
    "    print(daftarnama)\r\n",
    "if __name__== '__main__':\r\n",
    "    main()"
   ],
   "outputs": [
    {
     "output_type": "stream",
     "name": "stdout",
     "text": [
      "Keadaan awal\n",
      "['Chel', 'Sea', 'La', 'Ti', 'Fa', 'Sa', 'Ri']\n",
      "\n",
      "Menggunakan sorted():\n",
      "['Chel', 'Fa', 'La', 'Ri', 'Sa', 'Sea', 'Ti']\n",
      "\n",
      "Keadaan akhir:\n",
      "['Chel', 'Fa', 'La', 'Ri', 'Sa', 'Sea', 'Ti']\n"
     ]
    }
   ],
   "metadata": {}
  },
  {
   "cell_type": "markdown",
   "source": [
    "## Rekursi\n",
    "Buatlah kode seperti contoh berikut pada cell di bawah\n",
    "> Inputkan bilangan bebas pada kotak kolom di bagian atas\n",
    "\n",
    "![](./images/07_Rekursi.png)"
   ],
   "metadata": {}
  },
  {
   "cell_type": "code",
   "execution_count": 4,
   "source": [
    "#Kerjakan disini\r\n",
    "import sys\r\n",
    "\r\n",
    "def faktorial(n):\r\n",
    "    if n==0:\r\n",
    "        return 1\r\n",
    "    else :\r\n",
    "        return n * faktorial(n-1)\r\n",
    "def main():\r\n",
    "    bil = int(input(\"Masukkan bilangan= \"))\r\n",
    "\r\n",
    "    if bil < 0:\r\n",
    "        print(\"ERROR\")\r\n",
    "        sys.exit(1)\r\n",
    "\r\n",
    "    print(\"%d! = %d\" % (bil, faktorial(bil)))\r\n",
    "if __name__== '__main__':\r\n",
    "    main()"
   ],
   "outputs": [
    {
     "output_type": "stream",
     "name": "stdout",
     "text": [
      "11! = 39916800\n"
     ]
    }
   ],
   "metadata": {}
  },
  {
   "cell_type": "markdown",
   "source": [
    "### Membuat kode\n",
    "Buatlah sebuah program yang dapat mengurutkan nama bulan secara alfabetis, dengan ketentuan sebagai berikut:\n",
    "- Data awal berupa list bulan Januari - Desember dengan huruf awal bervariasi (huruf kapital dan kecil)\n",
    "- Urutkan nama menggunakan **sorted()**\n",
    "- Kemudian urutkan nama sesuai abjad tanpa mepedulikan huruf awal (huruf kapital atau huruf kecil)"
   ],
   "metadata": {}
  },
  {
   "cell_type": "code",
   "execution_count": 5,
   "source": [
    "def main():\r\n",
    "    month = [\"January\", \"february\", \"March\", \"april\", \"May\", \"june\", \"July\", \"august\", \"September\", \"october\", \"November\", \"december\"]\r\n",
    "    print(\"Keadaan awal\")\r\n",
    "    print(month)\r\n",
    "\r\n",
    "    print(\"\\nMenggunakan sorted():\")\r\n",
    "    print(sorted(month))\r\n",
    "\r\n",
    "    month.sort(key=lambda n: n.lower())\r\n",
    "\r\n",
    "    print(\"\\nKeadaan akhir:\")\r\n",
    "    print(month)\r\n",
    "if __name__== '__main__':\r\n",
    "    main()"
   ],
   "outputs": [
    {
     "output_type": "stream",
     "name": "stdout",
     "text": [
      "Keadaan awal\n",
      "['January', 'february', 'March', 'april', 'May', 'june', 'July', 'august', 'September', 'october', 'November', 'december']\n",
      "\n",
      "Menggunakan sorted():\n",
      "['January', 'July', 'March', 'May', 'November', 'September', 'april', 'august', 'december', 'february', 'june', 'october']\n",
      "\n",
      "Keadaan akhir:\n",
      "['april', 'august', 'december', 'february', 'January', 'July', 'june', 'March', 'May', 'November', 'october', 'September']\n"
     ]
    }
   ],
   "metadata": {}
  },
  {
   "cell_type": "markdown",
   "source": [
    "### Cara Pengumpulan\n",
    "\n",
    "1. Buka *New Terminal*\n",
    "2. Pastikan *path* Terminal adalah folder repositori kalian (NIM-Nama-Prokom).\n",
    "3. Tambahkan file yang akan ditrack dengan `git add <nama file>`. Nama file bisa diubah . (titik) yang artinya semua file dalam folder akan ditrack.\n",
    "4. Lakukan commit perubahan dengan `git commit -m <deskripsi>`.\n",
    "5. Lakukan push dengan `git push -u origin <nama branch>`. Nama branch dapat diketahui dengan `git branch`.\n",
    "6. Pastikan Exercise-07 telah terupload dan dapat diakses di repositori dengan mengaksesnya di browser."
   ],
   "metadata": {}
  },
  {
   "cell_type": "markdown",
   "source": [
    "***\n",
    "<h1 align=\"center\">Well Done!!!</h1> \n",
    "\n",
    "***"
   ],
   "metadata": {}
  }
 ],
 "metadata": {
  "interpreter": {
   "hash": "0dd272924c7cc597c5889018966c2ccb6c9651b4aec44649117dbf66b8c76eee"
  },
  "kernelspec": {
   "name": "python3",
   "display_name": "Python 3.10.4 64-bit"
  },
  "language_info": {
   "codemirror_mode": {
    "name": "ipython",
    "version": 3
   },
   "file_extension": ".py",
   "mimetype": "text/x-python",
   "name": "python",
   "nbconvert_exporter": "python",
   "pygments_lexer": "ipython3",
   "version": "3.10.4"
  },
  "orig_nbformat": 4
 },
 "nbformat": 4,
 "nbformat_minor": 2
}