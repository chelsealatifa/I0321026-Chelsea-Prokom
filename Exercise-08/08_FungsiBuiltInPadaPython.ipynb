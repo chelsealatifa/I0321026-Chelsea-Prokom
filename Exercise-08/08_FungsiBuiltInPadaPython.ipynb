{
 "cells": [
  {
   "cell_type": "markdown",
   "source": [
    "# Exercise 8\n",
    "1. Fungsi is_sentence_case merupakan fungsi yang mengembalikan nilai boolean True jika huruf pertama pada input string berupa huruf kapital atau mengembalikan nilai boolean False jika huruf pertama pada input string bukan berupa huruf kapital. Salinlah kode dibawah ini dan lengkapi kode yang rumpang sehingga menghasilkan input yang diinginkan\n",
    "![](./images/08_FungsiFungsiString01.png)"
   ],
   "metadata": {}
  },
  {
   "cell_type": "code",
   "execution_count": 1,
   "source": [
    "#Kerjakan nomor 1 disini\r\n",
    "def is_sentence_case(str):\r\n",
    "    if str == str.capitalize():\r\n",
    "        return True\r\n",
    "    return False\r\n",
    "\r\n",
    "print(is_sentence_case(\"Aku suka bahasa pemrograman python\"))\r\n",
    "print(is_sentence_case(\"aku suka bahasa pemrograman python\"))"
   ],
   "outputs": [
    {
     "output_type": "stream",
     "name": "stdout",
     "text": [
      "True\n",
      "False\n"
     ]
    }
   ],
   "metadata": {}
  },
  {
   "cell_type": "markdown",
   "source": [
    "2. Fungsi vowel_letters_count merupakan fungsi yang mengembalikan jumlah huruf vokal pada input kalimat. Salinlah kode berikut dan lengkapi kode sehingga menghasilkan output yang diinginkan\n",
    "![](./images/08_FungsiFungsiString02.png)"
   ],
   "metadata": {}
  },
  {
   "cell_type": "code",
   "execution_count": 5,
   "source": [
    "#Kerjakan nomor 2 disini\r\n",
    "def vowel_letters_count(str):\r\n",
    "    a = str.count(\"a\") + str.count(\"A\")\r\n",
    "    i = str.count(\"i\") + str.count(\"I\")\r\n",
    "    u = str.count(\"u\") + str.count(\"U\")\r\n",
    "    e = str.count(\"e\") + str.count(\"E\")\r\n",
    "    o = str.count(\"o\") + str.count(\"O\")\r\n",
    "    return a + i + u + e + o \r\n",
    "print(vowel_letters_count(\"Mahasiswa Teknik Industri Angkatan 2021\"))"
   ],
   "outputs": [
    {
     "output_type": "stream",
     "name": "stdout",
     "text": [
      "12\n"
     ]
    }
   ],
   "metadata": {}
  },
  {
   "cell_type": "markdown",
   "source": [
    "3. Fungsi replace_string merupakan fungsi yang berguna untuk mengganti substring lama pada input kalimat dengan substring baru namun fungsi ini hanya bekerja mengganti substring lama pada akhir kalimat. Salinlah kode berikut dan lengkapi kode yang masih rumpang sehingga menghasilkan output yang diharapkan\n",
    "![](./images/08_FungsiFungsiString03.png)"
   ],
   "metadata": {}
  },
  {
   "cell_type": "code",
   "execution_count": 1,
   "source": [
    "#Kerjakan nomor 3 disini\r\n",
    "def replace_string(sentence,old,new):\r\n",
    "    if sentence.endswith(old):\r\n",
    "        i = len(sentence)-len(old)\r\n",
    "        new_sentence = sentence[-len(sentence):i] + new\r\n",
    "        return new_sentence\r\n",
    "    return sentence\r\n",
    "\r\n",
    "print(replace_string(\"Budi memelihara 2 kucing dan 1 kucing\", \"kucing\", \"anjing\"))\r\n",
    "print(replace_string(\"Dia memperoleh banyak uang dengan cara menjual perhiasan berlian\", \"Berlian\", \"emas\"))"
   ],
   "outputs": [
    {
     "output_type": "stream",
     "name": "stdout",
     "text": [
      "Budi memelihara 2 kucing dan 1 anjing\n",
      "Dia memperoleh banyak uang dengan cara menjual perhiasan berlian\n"
     ]
    }
   ],
   "metadata": {}
  },
  {
   "cell_type": "markdown",
   "source": [
    "4. Salinlah kode berikut dan lengkapi kode yang masih rumpang sehingga menghasilkan output yang diharapkan\n",
    "![](./images/08_FungsiFungsiString04.png)"
   ],
   "metadata": {}
  },
  {
   "cell_type": "code",
   "execution_count": 7,
   "source": [
    "#Kerjakan nomor 4 disini\r\n",
    "kalimat1 = \"Praktikum Prokom\"\r\n",
    "print(\"kalimat1 sebelum perubahan:\")\r\n",
    "print(kalimat1)\r\n",
    "print(\"\\nkalimat1 setelah perubahan\")\r\n",
    "print(kalimat1.center(24, '*'))"
   ],
   "outputs": [
    {
     "output_type": "stream",
     "name": "stdout",
     "text": [
      "kalimat1 sebelum perubahan:\n",
      "Praktikum Prokom\n",
      "\n",
      "kalimat1 setelah perubahan\n",
      "****Praktikum Prokom****\n"
     ]
    }
   ],
   "metadata": {}
  },
  {
   "cell_type": "markdown",
   "source": [
    "5. Salinlah kode berikut\n",
    "![](./images/08_FungsiFungsiString05.png)"
   ],
   "metadata": {}
  },
  {
   "cell_type": "code",
   "execution_count": 6,
   "source": [
    "#Kerjakan nomor 5 disini\r\n",
    "kalimat2 = \"Selain praktikum prokom saya juga mengikuti praktikum fisdas\"\r\n",
    "print('Nomor indeks substring \"prokom\" pada kalimat2 adalah', kalimat2.find('prokom'))\r\n",
    "print('Nomor indeks huruf m pada substring \"prokom\" pada kalimat2 adalah', kalimat2.find('m', 17, 23))\r\n",
    "print('Nomor indeks substring \"fisdas\" pada kalimat2 adalah', kalimat2.index('fisdas'))\r\n",
    "print('Nomor indeks huruf d pada substring \"fisdas\" pada kalimat2 adalah', kalimat2.index('d', 54, 59))"
   ],
   "outputs": [
    {
     "output_type": "stream",
     "name": "stdout",
     "text": [
      "Nomor indeks substring \"prokom\" pada kalimat2 adalah 17\n",
      "Nomor indeks huruf m pada substring \"prokom\" pada kalimat2 adalah 22\n",
      "Nomor indeks substring \"fisdas\" pada kalimat2 adalah 54\n",
      "Nomor indeks huruf d pada substring \"fisdas\" pada kalimat2 adalah 57\n"
     ]
    }
   ],
   "metadata": {}
  },
  {
   "cell_type": "markdown",
   "source": [
    "6. Untuk meningkatkan pemahaman kalian dalam fungsi-fungsi numerik, salin kode berikut dan lengkapi kode yang masih rumpang tersebut\n",
    "![](./images/08_FungsiFungsiNumerik.png)"
   ],
   "metadata": {}
  },
  {
   "cell_type": "code",
   "execution_count": 1,
   "source": [
    "#Kerjakan nomor 6 disini\r\n",
    "import math\r\n",
    "bilangan1 = -4.39\r\n",
    "bilangan2 = 7.51\r\n",
    "bilangan3 = 9.13\r\n",
    "print('nilai mutlak bilangan1 =', abs(bilangan1))\r\n",
    "print('pembulatan ke bawah dari bilangan2 =', math.floor(bilangan2))\r\n",
    "print('pembulatan ke atas dari bilangan3 =', math.ceil(bilangan3))\r\n",
    "print('Nilai max dari 3 bilangan tersebut =', max(bilangan1, bilangan2, bilangan3))\r\n",
    "print('Nilai min dari 3 bilangan tersebut =', min(bilangan1, bilangan2, bilangan3))\r\n",
    "print('Nilai akar kuadrat dari bilangan3 adalah =', math.sqrt(bilangan3))\r\n",
    "\r\n",
    "import random\r\n",
    "list = [-4.39, 7.51, 9.13]\r\n",
    "print('random 1 choice =', random.choice(list))\r\n",
    "print('random 2 choice =', random.choice(list))\r\n",
    "print('random 3 choice =', random.choice(list))"
   ],
   "outputs": [
    {
     "output_type": "stream",
     "name": "stdout",
     "text": [
      "nilai mutlak bilangan1 = 4.39\n",
      "pembulatan ke bawah dari bilangan2 = 7\n",
      "pembulatan ke atas dari bilangan3 = 10\n",
      "Nilai max dari 3 bilangan tersebut = 9.13\n",
      "Nilai min dari 3 bilangan tersebut = -4.39\n",
      "Nilai akar kuadrat dari bilangan3 adalah = 3.0215889859476257\n",
      "random 1 choice = -4.39\n",
      "random 2 choice = 7.51\n",
      "random 3 choice = 9.13\n"
     ]
    }
   ],
   "metadata": {}
  },
  {
   "cell_type": "markdown",
   "source": [
    "7. Untuk meningkatkan pemahaman kalian dalam fungsi-fungsi dictionary, salin kode berikut dan lengkapi kode yang masih rumpang tersebut\n",
    "![](./images/08_FungsiFungsiDictionary.png)"
   ],
   "metadata": {}
  },
  {
   "cell_type": "code",
   "execution_count": 2,
   "source": [
    "#Kerjakan nomor 7 disini\r\n",
    "a = {'satu' : 3, 'dua' : 4, 'tiga' : 5}\r\n",
    "b = {'satu' : 3, 'dua' : 4}\r\n",
    "print('a =', a)\r\n",
    "print('b =', b)\r\n",
    "\r\n",
    "print('panjang dict a =', len(a))\r\n",
    "print('panjang dict b =', len(b))\r\n",
    "\r\n",
    "a.clear()\r\n",
    "b.clear()\r\n",
    "\r\n",
    "print('panjang dict a =', len(a))\r\n",
    "print('panjang dict b =', len(b))\r\n",
    "a = {'satu' : 3, 'dua' : 4, 'tiga' : 5}\r\n",
    "print('a =', a)\r\n",
    "\r\n",
    "b = a.copy()\r\n",
    "print('b =', b)\r\n",
    "a = {'satu' : 3, 'dua' : 4, 'tiga' : 5}\r\n",
    "print('a =', a)\r\n",
    "\r\n",
    "item = a.items()\r\n",
    "key = a.keys()\r\n",
    "value = a.values()\r\n",
    "print('item =', item)\r\n",
    "print('key =', key)\r\n",
    "print('value =', value)"
   ],
   "outputs": [
    {
     "output_type": "stream",
     "name": "stdout",
     "text": [
      "a = {'satu': 3, 'dua': 4, 'tiga': 5}\n",
      "b = {'satu': 3, 'dua': 4}\n",
      "panjang dict a = 3\n",
      "panjang dict b = 2\n",
      "panjang dict a = 0\n",
      "panjang dict b = 0\n",
      "a = {'satu': 3, 'dua': 4, 'tiga': 5}\n",
      "b = {'satu': 3, 'dua': 4, 'tiga': 5}\n",
      "a = {'satu': 3, 'dua': 4, 'tiga': 5}\n",
      "item = dict_items([('satu', 3), ('dua', 4), ('tiga', 5)])\n",
      "key = dict_keys(['satu', 'dua', 'tiga'])\n",
      "value = dict_values([3, 4, 5])\n"
     ]
    }
   ],
   "metadata": {}
  },
  {
   "cell_type": "markdown",
   "source": [
    "8. Untuk meningkatkan pemahaman kalian dalam fungsi-fungsi list, salin kode berikut dan lengkapi kode yang masih rumpang tersebut\n",
    "![](./images/08_FungsiFungsiList01.png)\n",
    "![](./images/08_FungsiFungsiList02.png)"
   ],
   "metadata": {}
  },
  {
   "cell_type": "code",
   "execution_count": 3,
   "source": [
    "#Kerjakan nomor 8 disini\r\n",
    "c = [0, 2, 0, 7, 0, 7]\r\n",
    "print('c =', c)\r\n",
    "c.append(1)\r\n",
    "c.append(7)\r\n",
    "print('c setelah ditambah =', c)\r\n",
    "print('jumlah nilai 0 =', c.count(0))\r\n",
    "print('jumlah nilai 7 =', c.count(7))\r\n",
    "print('index (2) =', c.index(2))\r\n",
    "print('index (7) =', c.index(7))\r\n",
    "c.pop()\r\n",
    "print('c =', c)\r\n",
    "c.pop()\r\n",
    "print('c =', c)\r\n",
    "c.pop(1)\r\n",
    "print('c =', c)\r\n",
    "\r\n",
    "d = [14]\r\n",
    "print('d =', d)\r\n",
    "d.insert(len(d), 27)\r\n",
    "print('d =', d)\r\n",
    "d.insert(0, 99)\r\n",
    "print('d =', d)\r\n",
    "d.insert(2, 16)\r\n",
    "print('d =', d)\r\n",
    "\r\n",
    "d.remove(14)\r\n",
    "d.remove(27)\r\n",
    "print('d =', d)\r\n",
    "\r\n",
    "e = [\"ai\", \"oi\", \"ei\", \"au\"]\r\n",
    "print('e =', e)\r\n",
    "e.reverse()\r\n",
    "print('e setelah reverse =', e)\r\n",
    "e.sort()\r\n",
    "print('e =', e)\r\n",
    "e.sort(reverse=True)\r\n",
    "print('e =', e)"
   ],
   "outputs": [
    {
     "output_type": "stream",
     "name": "stdout",
     "text": [
      "c = [0, 2, 0, 7, 0, 7]\n",
      "c setelah ditambah = [0, 2, 0, 7, 0, 7, 1, 7]\n",
      "jumlah nilai 0 = 3\n",
      "jumlah nilai 7 = 3\n",
      "index (2) = 1\n",
      "index (7) = 3\n",
      "c = [0, 2, 0, 7, 0, 7, 1]\n",
      "c = [0, 2, 0, 7, 0, 7]\n",
      "c = [0, 0, 7, 0, 7]\n",
      "d = [14]\n",
      "d = [14, 27]\n",
      "d = [99, 14, 27]\n",
      "d = [99, 14, 16, 27]\n",
      "d = [99, 16]\n",
      "e = ['ai', 'oi', 'ei', 'au']\n",
      "e setelah reverse = ['au', 'ei', 'oi', 'ai']\n",
      "e = ['ai', 'au', 'ei', 'oi']\n",
      "e = ['oi', 'ei', 'au', 'ai']\n"
     ]
    }
   ],
   "metadata": {}
  },
  {
   "cell_type": "markdown",
   "source": [
    "### Cara Pengumpulan\n",
    "\n",
    "1. Buka *New Terminal*\n",
    "2. Pastikan *path* Terminal adalah folder repositori kalian (NIM-Nama-Prokom).\n",
    "3. Tambahkan file yang akan ditrack dengan `git add <nama file>`. Nama file bisa diubah . (titik) yang artinya semua file dalam folder akan ditrack.\n",
    "4. Lakukan commit perubahan dengan `git commit -m <deskripsi>`.\n",
    "5. Lakukan push dengan `git push -u origin <nama branch>`. Nama branch dapat diketahui dengan `git branch`.\n",
    "6. Pastikan Exercise-08 telah terupload dan dapat diakses di repositori dengan mengaksesnya di browser."
   ],
   "metadata": {}
  },
  {
   "cell_type": "markdown",
   "source": [
    "***\n",
    "<h1 align=\"center\">Well Done!!!</h1> \n",
    "\n",
    "***"
   ],
   "metadata": {}
  }
 ],
 "metadata": {
  "interpreter": {
   "hash": "0dd272924c7cc597c5889018966c2ccb6c9651b4aec44649117dbf66b8c76eee"
  },
  "kernelspec": {
   "name": "python3",
   "display_name": "Python 3.10.4 64-bit"
  },
  "language_info": {
   "name": "python",
   "version": "3.10.4",
   "mimetype": "text/x-python",
   "codemirror_mode": {
    "name": "ipython",
    "version": 3
   },
   "pygments_lexer": "ipython3",
   "nbconvert_exporter": "python",
   "file_extension": ".py"
  },
  "orig_nbformat": 4
 },
 "nbformat": 4,
 "nbformat_minor": 2
}