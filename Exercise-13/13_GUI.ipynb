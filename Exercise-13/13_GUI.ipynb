{
 "cells": [
  {
   "cell_type": "markdown",
   "source": [
    "***\n",
    "<h1 align=\"center\">Exercise 13</h1> \n",
    "\n",
    "***\n",
    "## GUI (*Graphical User Interface*)\n",
    "\n",
    "### 1. Pemrograman GUI dengan Tkinter\n",
    "Buatlah kode seperti contoh berikut pada cell di bawah \n",
    "\n",
    "![](./images/13_Tkinter.png)"
   ],
   "metadata": {}
  },
  {
   "cell_type": "code",
   "execution_count": 1,
   "source": [
    "#kerjakan disini\r\n",
    "import tkinter\r\n",
    "\r\n",
    "mainform = tkinter.Tk()\r\n",
    "\r\n",
    "mainform.wm_title('Helo')\r\n",
    "mainform.mainloop()\r\n"
   ],
   "outputs": [],
   "metadata": {}
  },
  {
   "cell_type": "markdown",
   "source": [
    "### 2. Membuat dan Menempatkan Kontrol di dalam Form\n",
    "Buatlah kode seperti contoh berikut pada cell di bawah\n",
    "\n",
    "![](./images/13_Form.png)"
   ],
   "metadata": {}
  },
  {
   "cell_type": "code",
   "execution_count": 32,
   "source": [
    "#kerjakan disini\r\n",
    "import tkinter\r\n",
    "\r\n",
    "mainform = tkinter.Tk()\r\n",
    "lbl = tkinter.Label(mainform)\r\n",
    "lbl['text'] = \"Masukkan nama anda\"\r\n",
    "lbl.pack()\r\n",
    "\r\n",
    "txt = tkinter.Entry(mainform)\r\n",
    "txt['width'] = 40\r\n",
    "txt.pack()\r\n",
    "\r\n",
    "btn = tkinter.Button(mainform)\r\n",
    "btn['text'] = \"Lanjut\"\r\n",
    "btn.pack()\r\n",
    "\r\n",
    "mainform.wm_title('Hello!')\r\n",
    "mainform.mainloop()"
   ],
   "outputs": [],
   "metadata": {}
  },
  {
   "cell_type": "markdown",
   "source": [
    "### 3. Menangani Event\n",
    "Buatlah kode seperti contoh berikut pada cell di bawah\n",
    "\n",
    "![](./images/13_Buttonclick.png)"
   ],
   "metadata": {}
  },
  {
   "cell_type": "code",
   "execution_count": 31,
   "source": [
    "#kerjakan disini\r\n",
    "import tkinter\r\n",
    "import tkinter.messagebox as messagebox\r\n",
    "\r\n",
    "mainform = tkinter.Tk()\r\n",
    "\r\n",
    "def buttonclick ():\r\n",
    "    messagebox.showinfo(\"Hallo\", \"Hallo %s, apa kabar?\" % (txt.get()))\r\n",
    "lbl = tkinter.Label(mainform)\r\n",
    "lbl.pack()\r\n",
    "\r\n",
    "txt = tkinter.Entry(mainform)\r\n",
    "txt['width'] = 40\r\n",
    "txt.pack()\r\n",
    "\r\n",
    "btn = tkinter.Button(mainform, command=buttonclick)\r\n",
    "btn['text'] = \"Lanjut\"\r\n",
    "btn.pack()\r\n",
    "\r\n",
    "mainform.wm_title('Hello')\r\n",
    "mainform.mainloop()"
   ],
   "outputs": [],
   "metadata": {}
  },
  {
   "cell_type": "markdown",
   "source": [
    "### 4. Mengatur Tampilan Form dengan Grid Manager\n",
    "Buatlah kode seperti contoh berikut pada cell di bawah\n",
    "\n",
    "![](./images/13_RememberA.png)\n",
    "![](./images/13_RememberB.png)"
   ],
   "metadata": {}
  },
  {
   "cell_type": "code",
   "execution_count": 30,
   "source": [
    "#kerjakan disini\r\n",
    "import tkinter\r\n",
    "\r\n",
    "mainform = tkinter.Tk()\r\n",
    "\r\n",
    "lbl1 = tkinter.Label(mainform)\r\n",
    "lbl1['text'] =\"Masukkan nama anda\"\r\n",
    "lbl1.grid(row=0, column=0, sticky=tkinter.E)\r\n",
    "\r\n",
    "txt1 = tkinter.Entry(mainform)\r\n",
    "txt1['width'] = 40\r\n",
    "txt1.grid(row=0, column=1, columnspan=2)\r\n",
    "\r\n",
    "txt1 = tkinter.Entry(mainform)\r\n",
    "txt1['width'] = 40\r\n",
    "txt1.grid(row=1, column=1, columnspan=2)\r\n",
    "\r\n",
    "chk = tkinter.Checkbutton(mainform)\r\n",
    "chk['text'] = \"Remember me\"\r\n",
    "chk.grid(row=2, column=0)\r\n",
    "\r\n",
    "btn1 = tkinter.Button(mainform)\r\n",
    "btn1['text'] = \"Lanjut\"\r\n",
    "btn1.grid(row=2, column=1, sticky=tkinter.N+tkinter.E+tkinter.S+tkinter.W)\r\n",
    "\r\n",
    "btn2 = tkinter.Button(mainform)\r\n",
    "btn2['text'] = \"Exit\"\r\n",
    "btn2.grid(row=2, column=2, sticky=tkinter.N+tkinter.E+tkinter.S+tkinter.W)\r\n",
    "mainform.wm_title('Hello')\r\n",
    "mainform.mainloop()"
   ],
   "outputs": [],
   "metadata": {}
  },
  {
   "cell_type": "markdown",
   "source": [
    "### 5. Menggunakan Kelas Frame\n",
    "Buatlah kode seperti contoh berikut pada cell di bawah\n",
    "\n",
    "![](./images/13_Frame.png)"
   ],
   "metadata": {}
  },
  {
   "cell_type": "code",
   "execution_count": 29,
   "source": [
    "#kerjakan disini\r\n",
    "import tkinter\r\n",
    "\r\n",
    "mainform = tkinter.Frame()\r\n",
    "mainform.grid()\r\n",
    "\r\n",
    "btnout = tkinter.Button(mainform, text=\"keluar\", command=mainform.destroy)\r\n",
    "btnout.grid(sticky=tkinter.E+tkinter.S, padx=90, pady=90)\r\n",
    "mainform.master.title(\"Demo Frame\")\r\n",
    "mainform.mainloop()"
   ],
   "outputs": [],
   "metadata": {}
  },
  {
   "cell_type": "markdown",
   "source": [
    "### 6. Kontrol Button\n",
    "Buatlah kode seperti contoh berikut pada cell di bawah\n",
    "\n",
    "![](./images/13_ClickHere.png)"
   ],
   "metadata": {}
  },
  {
   "cell_type": "code",
   "execution_count": 26,
   "source": [
    "#kerjakan disini\r\n",
    "import tkinter\r\n",
    "import tkinter.messagebox\r\n",
    "\r\n",
    "def buttonclick():\r\n",
    "    tkinter.messagebox.showinfo(\"Informasi\", \"Hello!\")\r\n",
    "def main():\r\n",
    "    mainform = tkinter.Tk()\r\n",
    "    mainform.title(\"Demo button\")\r\n",
    "    mainform.geometry(\"280x200\")\r\n",
    "\r\n",
    "    button = tkinter.Button(mainform, text=\"Click here!\", background=\"#334477\", width=10, command=buttonclick)\r\n",
    "    button.grid(sticky=tkinter.E+tkinter.S, padx=90, pady=120)\r\n",
    "    mainform.mainloop()\r\n",
    "if __name__== '__main__':\r\n",
    "    main()"
   ],
   "outputs": [],
   "metadata": {}
  },
  {
   "cell_type": "markdown",
   "source": [
    "### 7. Kontrol CheckButton\n",
    "Buatlah kode seperti contoh berikut pada cell di bawah\n",
    "\n",
    "![](./images/13_HobiA.png)\n",
    "![](./images/13_HobiB.png)"
   ],
   "metadata": {}
  },
  {
   "cell_type": "code",
   "execution_count": 24,
   "source": [
    "#kerjakan disini\r\n",
    "import tkinter\r\n",
    "import tkinter.messagebox\r\n",
    "\r\n",
    "def main():\r\n",
    "    mainform = tkinter.Tk()\r\n",
    "    mainform.title(\"Demo button\")\r\n",
    "    mainform.geometry(\"280x200\")\r\n",
    "    var1 = tkinter.IntVar()\r\n",
    "    var2 = tkinter.IntVar()\r\n",
    "    var3 = tkinter.IntVar()\r\n",
    "\r\n",
    "    def getchoice():\r\n",
    "        pilihan = []\r\n",
    "        if var1.get() == 1: pilihan.append(\"Musik\")\r\n",
    "        if var2.get() == 1: pilihan(\"Olahraga\")\r\n",
    "        if var3.get() == 1: pilihan(\"Membaca\")\r\n",
    "        tkinter.messagebox.showinfo(\"Informasi\", str(pilihan))\r\n",
    "    \r\n",
    "    I = tkinter.Label(mainform, text=\"Hobi anda (pilih salah satu): \")\r\n",
    "    I.grid(row=0, sticky=tkinter.W)\r\n",
    "\r\n",
    "    c1 = tkinter.Checkbutton(mainform, variable=var1, text=\"Musik\")\r\n",
    "    c1.grid(row=1, sticky=tkinter.W)\r\n",
    "\r\n",
    "    c1 = tkinter.Checkbutton(mainform, variable=var2, text=\"Olahraga\")\r\n",
    "    c1.grid(row=2, sticky=tkinter.W)\r\n",
    "\r\n",
    "    c1 = tkinter.Checkbutton(mainform, variable=var3, text=\"Membaca\")\r\n",
    "    c1.grid(row=3, sticky=tkinter.W)\r\n",
    "\r\n",
    "    b1 = tkinter.Button(mainform, text=\"OK\", command=getchoice, width=10)\r\n",
    "    b1.grid(row=4, sticky=tkinter.W, padx=4, pady=4)\r\n",
    "    b1 = tkinter.Button(mainform, text=\"Keluar\", command=getchoice, width=10)\r\n",
    "    b1.grid(row=4, sticky=tkinter.W, padx=90, pady=4)\r\n",
    "\r\n",
    "    mainform.mainloop()\r\n",
    "if __name__ == '__main__':\r\n",
    "    main()"
   ],
   "outputs": [],
   "metadata": {}
  },
  {
   "cell_type": "markdown",
   "source": [
    "### 8. Kontrol Entry\n",
    "Buatlah kode seperti contoh berikut pada cell di bawah\n",
    "\n",
    "![](./images/13_EntryA.png)\n",
    "![](./images/13_EntryB.png)"
   ],
   "metadata": {}
  },
  {
   "cell_type": "code",
   "execution_count": 23,
   "source": [
    "#kerjakan disini\r\n",
    "import tkinter\r\n",
    "import tkinter.messagebox\r\n",
    "\r\n",
    "def main():\r\n",
    "    mainform = tkinter.Tk()\r\n",
    "    mainform.title(\"Demo button\")\r\n",
    "    mainform.geometry(\"155x100\")\r\n",
    "\r\n",
    "    var1 = tkinter.StringVar()\r\n",
    "\r\n",
    "    var1.set(\"Python...\")\r\n",
    "\r\n",
    "    def kosongkan():\r\n",
    "        var1.set(\"\")\r\n",
    "    def ambilteks():\r\n",
    "        tkinter.messagebox.showinfo(\"Informasi\", var1.get())\r\n",
    "\r\n",
    "    l = tkinter.Label(mainform, text=\"Masukkan teks\")\r\n",
    "    l.grid(row=0, column=0, columnspan=2, sticky=tkinter.W+tkinter.E, padx=4, pady=4)\r\n",
    "\r\n",
    "    e = tkinter.Entry(mainform, textvariable=var1)\r\n",
    "    e.grid(row=1, column=0, columnspan=2, sticky=tkinter.W+tkinter.E, padx=4, pady=4)\r\n",
    "\r\n",
    "    b1 = tkinter.Button(mainform, text=\"Kosongkan\", command=kosongkan)\r\n",
    "    b1.grid(row=2, column=0, padx=4, pady=4)\r\n",
    "    b2 = tkinter.Button(mainform, text=\"Ambil teks\", command=ambilteks)\r\n",
    "    b2.grid(row=2, column=1, padx=4, pady=4)\r\n",
    "\r\n",
    "    mainform.mainloop()\r\n",
    "if __name__ == '__main__':\r\n",
    "    main()"
   ],
   "outputs": [],
   "metadata": {}
  },
  {
   "cell_type": "markdown",
   "source": [
    "***\n",
    "<h1 align=\"center\">Well Done!!!</h1> \n",
    "\n",
    "***"
   ],
   "metadata": {}
  }
 ],
 "metadata": {
  "interpreter": {
   "hash": "0dd272924c7cc597c5889018966c2ccb6c9651b4aec44649117dbf66b8c76eee"
  },
  "kernelspec": {
   "name": "python3",
   "display_name": "Python 3.10.4 64-bit"
  },
  "language_info": {
   "codemirror_mode": {
    "name": "ipython",
    "version": 3
   },
   "file_extension": ".py",
   "mimetype": "text/x-python",
   "name": "python",
   "nbconvert_exporter": "python",
   "pygments_lexer": "ipython3",
   "version": "3.10.4"
  },
  "orig_nbformat": 4
 },
 "nbformat": 4,
 "nbformat_minor": 2
}