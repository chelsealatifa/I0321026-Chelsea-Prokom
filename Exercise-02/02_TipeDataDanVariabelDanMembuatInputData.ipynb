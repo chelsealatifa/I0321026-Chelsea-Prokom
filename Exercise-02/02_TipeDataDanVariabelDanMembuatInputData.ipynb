{
 "cells": [
  {
   "cell_type": "markdown",
   "source": [
    "# Exercise 2\n",
    "\n",
    "1. Salinlah kode di bawah ini dan isilah titik-titik sesuai dengan perintah yang ada\n",
    "![](./images/02_TipeDataDanVariabel.png)"
   ],
   "metadata": {}
  },
  {
   "cell_type": "code",
   "execution_count": 2,
   "source": [
    "#Kerjakan nomor satu disini\r\n",
    "Nama = \"Chelsea Latifasari\"\r\n",
    "nama = \"Ceci\"\r\n",
    "print(\"Nama lengkap saya adalah\", Nama)\r\n",
    "print(\"Nama panggilan saya adalah\", nama)\r\n",
    "\r\n",
    "_umur = 18\r\n",
    "print(\"Umur saya saat ini adalah\", _umur)\r\n",
    "print(\"Tipe data variabel _umur adalah\", type(_umur))\r\n",
    "_umur = \"delapan belas tahun\"\r\n",
    "print(\"Umur saya saat ini adalah\", _umur)\r\n",
    "print(\"Tipe data variabel _umur adalah\", type(_umur))\r\n",
    "tinggi_badan = 154\r\n",
    "print(\"Tinggi badan saya adalah\", tinggi_badan)\r\n",
    "print(\"Tipe data variabel tinggi_badan adalah\", type(tinggi_badan))\r\n",
    "mahasiswaangkatan2021 = True\r\n",
    "print(\"Saya merupakan mahasiswa angkatan 2021 adalah\", mahasiswaangkatan2021)\r\n",
    "print(\"Tipe data variabel mahasiswaangkatan2021 adalah\", type(mahasiswaangkatan2021))"
   ],
   "outputs": [
    {
     "output_type": "stream",
     "name": "stdout",
     "text": [
      "Nama lengkap saya adalah Chelsea Latifasari\n",
      "Nama panggilan saya adalah Ceci\n",
      "Umur saya saat ini adalah 18\n",
      "Tipe data variabel _umur adalah <class 'int'>\n",
      "Umur saya saat ini adalah delapan belas tahun\n",
      "Tipe data variabel _umur adalah <class 'str'>\n",
      "Tinggi badan saya adalah 154\n",
      "Tipe data variabel tinggi_badan adalah <class 'int'>\n",
      "Saya merupakan mahasiswa angkatan 2021 adalah True\n",
      "Tipe data variabel mahasiswaangkatan2021 adalah <class 'bool'>\n"
     ]
    }
   ],
   "metadata": {}
  },
  {
   "cell_type": "markdown",
   "source": [
    "2. Salinlah kode di bawah ini dan isilah titik-titik sesuai dengan perintah yang ada\n",
    "![](./images/02_MembuatInputData.png)"
   ],
   "metadata": {}
  },
  {
   "cell_type": "code",
   "execution_count": 5,
   "source": [
    "#Kerjakan nomor satu disini\r\n",
    "#simbol miu --> μ\r\n",
    "print(\"Program Konversi Panjang dalam Meter ke Berbagai Satuan\")\r\n",
    "print(\"\")\r\n",
    "length = int(input(\"Masukkan nilai panjang dalam meter: \"))\r\n",
    "feet = length / 0.3048\r\n",
    "print(\"\")\r\n",
    "print(length, \"m =\", length / 1000, \"km\")\r\n",
    "print(length, \"m =\", length * 100, \"cm\")\r\n",
    "print(length, \"m =\", length * 1000, \"mm\")\r\n",
    "print(length, \"m =\", length * 1000000, \"μm\")\r\n",
    "print(length, \"m =\", length * 1000000000, \"nm\")\r\n",
    "print(length, \"m =\", round(feet * 12, 4), \"in\")\r\n",
    "print(length, \"m =\", round(feet, 4), \"ft\")\r\n",
    "print(length, \"m =\", round(feet / 3, 4), \"yard\")\r\n",
    "print(length, \"m =\", round(feet / 5280, 4), \"mi\")\r\n",
    "print(length, \"m =\", round(length / 1852, 4), \"nmi\")"
   ],
   "outputs": [
    {
     "output_type": "stream",
     "name": "stdout",
     "text": [
      "Program Konversi Panjang dalam Meter ke Berbagai Satuan\n",
      "\n",
      "\n",
      "10 m = 0.01 km\n",
      "10 m = 1000 cm\n",
      "10 m = 10000 mm\n",
      "10 m = 10000000 μm\n",
      "10 m = 10000000000 nm\n",
      "10 m = 393.7008 in\n",
      "10 m = 32.8084 ft\n",
      "10 m = 10.9361 yard\n",
      "10 m = 0.0062 mi\n",
      "10 m = 0.0054 nmi\n"
     ]
    }
   ],
   "metadata": {}
  },
  {
   "cell_type": "markdown",
   "source": [
    "### Cara Pengumpulan\n",
    "\n",
    "1. Buka *New Terminal*\n",
    "2. Pastikan *path* Terminal adalah folder repositori kalian (NIM-Nama-Prokom).\n",
    "3. Tambahkan file yang akan ditrack dengan `git add <nama file>`. Nama file bisa diubah . (titik) yang artinya semua file dalam folder akan ditrack.\n",
    "4. Lakukan commit perubahan dengan `git commit -m <deskripsi>`.\n",
    "5. Lakukan push dengan `git push -u origin <nama branch>`. Nama branch dapat diketahui dengan `git branch`.\n",
    "6. Pastikan Exercise-02 telah terupload dan dapat diakses di repositori dengan mengaksesnya di browser."
   ],
   "metadata": {}
  }
 ],
 "metadata": {
  "interpreter": {
   "hash": "43435a050d4ac362dc4b1b4851a0333547cf4819a4e47175b9a0f2919a9b0b1b"
  },
  "kernelspec": {
   "name": "python3",
   "display_name": "Python 3.9.7 64-bit"
  },
  "language_info": {
   "name": "python",
   "version": "3.9.7",
   "mimetype": "text/x-python",
   "codemirror_mode": {
    "name": "ipython",
    "version": 3
   },
   "pygments_lexer": "ipython3",
   "nbconvert_exporter": "python",
   "file_extension": ".py"
  },
  "orig_nbformat": 4
 },
 "nbformat": 4,
 "nbformat_minor": 2
}